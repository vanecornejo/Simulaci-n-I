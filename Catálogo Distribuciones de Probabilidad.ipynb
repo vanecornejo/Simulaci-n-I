{
  "nbformat": 4,
  "nbformat_minor": 0,
  "metadata": {
    "colab": {
      "provenance": [],
      "include_colab_link": true
    },
    "kernelspec": {
      "name": "python3",
      "display_name": "Python 3"
    },
    "language_info": {
      "name": "python"
    }
  },
  "cells": [
    {
      "cell_type": "markdown",
      "metadata": {
        "id": "view-in-github",
        "colab_type": "text"
      },
      "source": [
        "<a href=\"https://colab.research.google.com/github/vanecornejo/Simulaci-n-I/blob/main/Cat%C3%A1logo%20Distribuciones%20de%20Probabilidad.ipynb\" target=\"_parent\"><img src=\"https://colab.research.google.com/assets/colab-badge.svg\" alt=\"Open In Colab\"/></a>"
      ]
    },
    {
      "cell_type": "markdown",
      "source": [
        "# Catálogo de Distribuciones de Probabilidad\n",
        "---\n",
        "## Distribuciones Continuas\n",
        "\n",
        "### 1. Distribución Uniforme $X \\sim {U}(a, b)$\n",
        "\n",
        "- **PDF**: $f(x) = \\frac{1}{b-a}, \\quad a \\leq x \\leq b$\n",
        "- **CDF**: $F(x) = \\frac{x-a}{b-a}, \\quad a \\leq x \\leq b$\n",
        "- **Media**: $\\frac{a+b}{2}$\n",
        "- **Varianza**: $\\frac{(b-a)^2}{12}$\n",
        "- **Desviación Estándar**: $\\sqrt{\\frac{(b-a)^2}{12}}$\n",
        "\n",
        "**Pseudocódigo**:\n",
        "\n",
        "    def uniforme(a, b, n):\n",
        "        muestra = []\n",
        "        for i = 1 to n:\n",
        "            u = random(0, 1)\n",
        "            x = a + (b - a) * u\n",
        "            muestra.append(x)\n",
        "        return muestra\n",
        "\n",
        "\n",
        "\n"
      ],
      "metadata": {
        "id": "ntJkTQ9DIa2I"
      }
    },
    {
      "cell_type": "markdown",
      "source": [
        "<img src=\"https://www.lifeder.com/wp-content/uploads/2020/11/distribucion-uniforme-continua.jpg\" width=\"350\">"
      ],
      "metadata": {
        "id": "ZAklR2Ina7BX"
      }
    },
    {
      "cell_type": "markdown",
      "source": [
        "### 2. Distribución Triangular\n",
        "$X \\sim \\text{Triangular}(a, b, c)$ con $a \\leq c \\leq b$\n",
        "  \n",
        "  - **PDF**:\n",
        "  $$f(x) = \\begin{cases}\n",
        "  \\frac{2(x-a)}{(b-a)(c-a)} & a \\leq x \\leq c \\\\\\\\\n",
        "  \\frac{2(b-x)}{(b-a)(b-c)} & c < x \\leq b\n",
        "  \\end{cases}$$\n",
        "    \n",
        "  - **CDF**:\n",
        "  $$F(x) = \\begin{cases}\n",
        "  \\frac{(x-a)^2}{(b-a)(c-a)} & a \\leq x \\leq c \\\\\\\\\n",
        "  1 - \\frac{(b-x)^2}{(b-a)(b-c)} & c < x \\leq b\n",
        "  \\end{cases}$$\n",
        "  \n",
        "  - **Media**: $\\frac{a+b+c}{3}$\n",
        "  \n",
        "  - **Varianza**: $\\frac{a^2 + b^2 + c^2 - ab - ac - bc}{18}$\n",
        "  \n",
        "  - **Desviación Estándar**: $\\sqrt{\\frac{a^2 + b^2 + c^2 - ab - ac - bc}{18}}$\n",
        "    \n",
        "**Pseudocódigo**:\n",
        "  \n",
        "    def triangular(a, b, c, n):\n",
        "        muestras = []\n",
        "        Fc = (c - a) / (b - a)\n",
        "        for i = 1 to n:\n",
        "            u = random(0, 1)\n",
        "            if u < Fc:\n",
        "                x = a + sqrt(u * (b - a) * (c - a))\n",
        "            else:\n",
        "                x = b - sqrt((1 - u) * (b - a) * (b - c))\n",
        "            muestras.append(x)\n",
        "        return muestras"
      ],
      "metadata": {
        "id": "HpLhv4rUdxOz"
      }
    },
    {
      "cell_type": "markdown",
      "source": [
        "<img src=\"https://upload.wikimedia.org/wikipedia/commons/thumb/4/45/Triangular_distribution_PMF.png/1200px-Triangular_distribution_PMF.png\" width=\"350\">\n",
        "<img src=\"https://upload.wikimedia.org/wikipedia/commons/thumb/e/e5/Triangular_distribution_CMF.png/330px-Triangular_distribution_CMF.png\" width=\"350\">"
      ],
      "metadata": {
        "id": "QacDZeZWhgVD"
      }
    },
    {
      "cell_type": "markdown",
      "source": [
        "### 3. Distribución Exponencial $X \\sim \\text{Exp}(\\lambda)$\n",
        "  \n",
        "  - **PDF**: $f(x) = \\lambda e^{-\\lambda x}, \\quad x \\geq 0$\n",
        "  \n",
        "  - **CDF**: $F(x) = 1 - e^{-\\lambda x}, \\quad x \\geq 0$\n",
        "  \n",
        "  - **Media**: $\\frac{1}{\\lambda}$\n",
        "  \n",
        "  - **Varianza**: $\\frac{1}{\\lambda^2}$\n",
        "  \n",
        "  - **Desviación Estándar**: $\\frac{1}{\\lambda}$\n",
        "  \n",
        "**Pseudocódigo:**\n",
        "  \n",
        "\n",
        "    def exp(lambda, n):\n",
        "        muestras = []\n",
        "        for i = 1 to n:\n",
        "            u = random(0, 1)\n",
        "           x = -ln(u) / lambda\n",
        "           samples.append(x)\n",
        "        return muestras"
      ],
      "metadata": {
        "id": "0bUHDig2lN0K"
      }
    },
    {
      "cell_type": "markdown",
      "source": [
        "<img src=\"https://miro.medium.com/v2/resize:fit:778/1*TZvxiHi8loOjSvvGYT48-A.png\" width=\"350\">\n",
        "<img src=\"https://upload.wikimedia.org/wikipedia/commons/thumb/b/ba/Exponential_cdf.svg/1024px-Exponential_cdf.svg.png\" width=\"350\">"
      ],
      "metadata": {
        "id": "FsVOFjAqmlTy"
      }
    },
    {
      "cell_type": "markdown",
      "source": [
        "### 4. Distribución de Erlang $X \\sim \\text{Erlang}(m, \\lambda)$\n",
        "    \n",
        "- **PDF**: $f(x) = \\frac{\\lambda^m x^{m-1} e^{-\\lambda x}}{(m-1)!}, \\quad x \\geq 0$\n",
        "    \n",
        "- **CDF**: $F(x) = 1 - \\sum_{k=0}^{m-1} \\frac{(\\lambda x)^k e^{-\\lambda x}}{k!}, \\quad x \\geq 0$\n",
        "    \n",
        "- **Media**: $\\frac{m}{\\lambda}$\n",
        "    \n",
        "- **Varianza**: $\\frac{m}{\\lambda^2}$\n",
        "    \n",
        "- **Desviación Estándar**: $\\sqrt{\\frac{m}{\\lambda^2}}$\n",
        "    \n",
        "**Pseudocódigo**:\n",
        "    \n",
        "    def erlang(m, lambda, n):\n",
        "        muestras = []\n",
        "        for i = 1 to n:\n",
        "            sum_exp = 0\n",
        "            for j = 1 to m:\n",
        "                u = random(0, 1)\n",
        "                sum_exp += -ln(u) / lambda\n",
        "            muestras.append(sum_exp)\n",
        "        return muestras"
      ],
      "metadata": {
        "id": "6VrcuVqym-Oh"
      }
    },
    {
      "cell_type": "markdown",
      "source": [
        "<img src=\"https://upload.wikimedia.org/wikipedia/commons/thumb/f/fc/Gamma_distribution_pdf.png/1024px-Gamma_distribution_pdf.png\" width=\"350\">\n",
        "<img src=\"https://upload.wikimedia.org/wikipedia/commons/thumb/a/a9/Gamma_distribution_cdf.png/1024px-Gamma_distribution_cdf.png\" width=\"350\">"
      ],
      "metadata": {
        "id": "TlVT-6RfI-_K"
      }
    },
    {
      "cell_type": "markdown",
      "source": [
        "### 5. Distribución Gamma  $X \\sim \\text{Gamma}(\\alpha, \\beta)$\n",
        "    \n",
        "-v**PDF**: $f(x) = \\frac{\\beta^\\alpha x^{\\alpha-1} e^{-\\beta x}}{\\Gamma(\\alpha)}, \\quad x \\geq 0$\n",
        "    \n",
        "- **CDF**: $F(x) = \\frac{\\gamma(\\alpha, \\beta x)}{\\Gamma(\\alpha)}, \\quad x \\geq 0$\n",
        "    \n",
        "- **Media**: $\\frac{\\alpha}{\\beta}$\n",
        "    \n",
        "- **Varianza**: $\\frac{\\alpha}{\\beta^2}$\n",
        "    \n",
        "- **Desviación Estándar**: $\\sqrt{\\frac{\\alpha}{\\beta^2}}$\n",
        "    \n",
        "**Pseudocódigo**:\n",
        "    \n",
        "    def dist_gamma(alpha, beta, n):\n",
        "        muestra = []\n",
        "        for i = 1 to n:\n",
        "            x = gamma_variate(alpha, 1/beta)\n",
        "            muestra.append(x)\n",
        "        return muestra"
      ],
      "metadata": {
        "id": "qABELOsBJRpJ"
      }
    },
    {
      "cell_type": "markdown",
      "source": [
        "<img src=\"https://upload.wikimedia.org/wikipedia/commons/thumb/f/fc/Gamma_distribution_pdf.png/1024px-Gamma_distribution_pdf.png\" width=\"350\">"
      ],
      "metadata": {
        "id": "gi8Qm27kK9Ds"
      }
    },
    {
      "cell_type": "markdown",
      "source": [
        "### 6. Distribución de Weibull $X \\sim \\text{Weibull}(\\lambda, k)$\n",
        "    \n",
        "- **PDF**: $f(x) = \\frac{k}{\\lambda} \\left(\\frac{x}{\\lambda}\\right)^{k-1} e^{-(x/\\lambda)^k}, \\quad x \\geq 0$\n",
        "    \n",
        "- **CDF**: $F(x) = 1 - e^{-(x/\\lambda)^k}, \\quad x \\geq 0$\n",
        "    \n",
        "- **Media**: $\\lambda \\Gamma\\left(1 + \\frac{1}{k}\\right)$\n",
        "    \n",
        "- **Varianza**: $\\lambda^2 \\left[ \\Gamma\\left(1 + \\frac{2}{k}\\right) - \\left( \\Gamma\\left(1 + \\frac{1}{k}\\right) \\right)^2 \\right]$\n",
        "    \n",
        "- **Desviación EStándar**: $\\sqrt{\\lambda^2 \\left[ \\Gamma\\left(1 + \\frac{2}{k}\\right) - \\left( \\Gamma\\left(1 + \\frac{1}{k}\\right) \\right)^2 \\right]}$\n",
        "    \n",
        "**Pseudocódigo**:\n",
        "    \n",
        "    function simulate_weibull(lambda, k, n):\n",
        "        muestra = []\n",
        "        for i = 1 to n:\n",
        "            u = random(0, 1)\n",
        "            x = lambda * (-ln(u))^(1/k)\n",
        "            muestra.append(x)\n",
        "        return muestra"
      ],
      "metadata": {
        "id": "k2slezU-L2Tb"
      }
    },
    {
      "cell_type": "markdown",
      "source": [
        "<img src=\"https://upload.wikimedia.org/wikipedia/commons/thumb/5/58/Weibull_PDF.svg/800px-Weibull_PDF.svg.png\" width=\"350\">\n",
        "<img src=\"https://upload.wikimedia.org/wikipedia/commons/thumb/7/7e/Weibull_CDF.svg/800px-Weibull_CDF.svg.png\" width=\"350\">"
      ],
      "metadata": {
        "id": "yiM3gdQmNXA8"
      }
    },
    {
      "cell_type": "markdown",
      "source": [
        "### 7. Distribución Normal  $X \\sim \\mathcal{N}(\\mu, \\sigma^2)$\n",
        "    \n",
        "- **PDF**: $f(x) = \\frac{1}{\\sqrt{2\\pi\\sigma^2}} e^{-\\frac{(x-\\mu)^2}{2\\sigma^2}}, \\quad x \\in \\mathbb{R}$\n",
        "    \n",
        "- **CDF**: $F(x) = \\Phi\\left(\\frac{x-\\mu}{\\sigma}\\right)$, donde $\\Phi$ es la CDF esándar normal\n",
        "    \n",
        "- **Media**: $\\mu$\n",
        "    \n",
        "- **Varianza**: $\\sigma^2$\n",
        "    \n",
        "- **Desviación Estándar**: $\\sigma$\n",
        "    \n",
        "- **Pseudocódigo**:\n",
        "    \n",
        "   \n",
        "    def normal(mu, sigma, n):\n",
        "        muestra = []\n",
        "        for i = 1 to n:\n",
        "            u1 = random(0, 1)\n",
        "            u2 = random(0, 1)\n",
        "            z = sqrt(-2 * ln(u1)) * cos(2 * pi * u2)  # Box-Muller\n",
        "            x = mu + sigma * z\n",
        "            muestra.append(x)\n",
        "        return muestra"
      ],
      "metadata": {
        "id": "Xx9HXECXNupA"
      }
    },
    {
      "cell_type": "markdown",
      "source": [
        "<img src=\"https://upload.wikimedia.org/wikipedia/commons/thumb/1/1b/Normal_distribution_pdf.png/1024px-Normal_distribution_pdf.png\" width=\"350\">\n",
        "<img src=\"https://upload.wikimedia.org/wikipedia/commons/thumb/1/19/Normal_distribution_cdf.png/1024px-Normal_distribution_cdf.png\" width=\"350\">"
      ],
      "metadata": {
        "id": "EYfa__bVPL8l"
      }
    },
    {
      "cell_type": "markdown",
      "source": [
        "### 8. Distribución Log-Normal\n",
        "$X \\sim \\text{LogNormal}(\\mu, \\sigma^2)$\n",
        "    \n",
        "- **PDF**: $f(x) = \\frac{1}{x \\sqrt{2\\pi\\sigma^2}} e^{-\\frac{(\\ln x - \\mu)^2}{2\\sigma^2}}, \\quad x > 0$\n",
        "    \n",
        "- **CDF**: $F(x) = \\Phi\\left(\\frac{\\ln x - \\mu}{\\sigma}\\right)$\n",
        "    \n",
        "- **Media**: $e^{\\mu + \\frac{\\sigma^2}{2}}$\n",
        "    \n",
        "- **Varianza**: $(e^{\\sigma^2} - 1) e^{2\\mu + \\sigma^2}$\n",
        "    \n",
        "- **Desviación Estándar**: $\\sqrt{(e^{\\sigma^2} - 1) e^{2\\mu + \\sigma^2}}$\n",
        "    \n",
        "**Pseudocódigo**:\n",
        "    \n",
        "    def lognormal(mu, sigma, n):\n",
        "        muestra = []\n",
        "        for i = 1 to n:\n",
        "            z = normal(0, 1)\n",
        "            x = exp(mu + sigma * z)\n",
        "            muestra.append(x)\n",
        "        return muestra"
      ],
      "metadata": {
        "id": "FY4NIXffPjQd"
      }
    },
    {
      "cell_type": "markdown",
      "source": [
        "<img src=\"https://upload.wikimedia.org/wikipedia/commons/thumb/8/89/Log-normal-pdfs.png/800px-Log-normal-pdfs.png\" width=\"350\">\n",
        "<img src=\"https://upload.wikimedia.org/wikipedia/commons/thumb/d/dc/Log-normal-cdfs.png/800px-Log-normal-cdfs.png\" width=\"350\">"
      ],
      "metadata": {
        "id": "CzQ8MhJ9QcDg"
      }
    },
    {
      "cell_type": "markdown",
      "source": [
        "### 9. Distribución Beta $X \\sim \\text{Beta}(\\alpha, \\beta)$\n",
        "    \n",
        "- **PDF**: $f(x) = \\frac{x^{\\alpha-1} (1-x)^{\\beta-1}}{B(\\alpha, \\beta)}, \\quad 0 \\leq x \\leq 1$\n",
        "    \n",
        "- **CDF**: $F(x) = I_x(\\alpha, \\beta)$, donde $I_x$ es la función beta incompleta regularizada\n",
        "    \n",
        "- **Media**: $\\frac{\\alpha}{\\alpha + \\beta}$\n",
        "    \n",
        "- **Varianza**: $\\frac{\\alpha \\beta}{(\\alpha + \\beta)^2 (\\alpha + \\beta + 1)}$\n",
        "    \n",
        "- **Desviación Estándar**: $\\sqrt{\\frac{\\alpha \\beta}{(\\alpha + \\beta)^2 (\\alpha + \\beta + 1)}}$\n",
        "    \n",
        "**Pseudocódigo**:\n",
        "    \n",
        "    def dist_beta(alpha, beta, n):\n",
        "        muestras = []\n",
        "        for i = 1 to n:\n",
        "            y1 = gamma(alpha, 1)\n",
        "            y2 = gamma(beta, 1)\n",
        "            x = y1 / (y1 + y2)\n",
        "            muestras.append(x)\n",
        "        return muestras"
      ],
      "metadata": {
        "id": "DGzZu3yzQ4dk"
      }
    },
    {
      "cell_type": "markdown",
      "source": [
        "<img src=\"https://upload.wikimedia.org/wikipedia/commons/thumb/9/9a/Beta_distribution_pdf.png/1024px-Beta_distribution_pdf.png\" width=\"350\">\n",
        "<img src=\"https://upload.wikimedia.org/wikipedia/commons/thumb/7/76/Beta_distribution_cdf.png/1024px-Beta_distribution_cdf.png\" width=\"350\">"
      ],
      "metadata": {
        "id": "BaKR7AJ6R-0s"
      }
    },
    {
      "cell_type": "markdown",
      "source": [
        "### 10. Distribución Log-Logística\n",
        "$X \\sim \\text{LogLogistic}(\\alpha, \\beta)$\n",
        "    \n",
        "- **PDF**: $f(x) = \\frac{(\\beta/\\alpha)(x/\\alpha)^{\\beta-1}}{[1 + (x/\\alpha)^\\beta]^2}, \\quad x \\geq 0$\n",
        "    \n",
        "- **CDF**: $F(x) = \\frac{1}{1 + (x/\\alpha)^{-\\beta}}$\n",
        "    \n",
        "- **Media**: $\\frac{\\alpha \\pi / \\beta}{\\sin(\\pi / \\beta)}$ si $\\beta > 1$, indefinida en otros casos\n",
        "    \n",
        "- **Varianza**: Expresión compleja, para $\\beta > 2$\n",
        "    \n",
        "- **Desviación Estándar**: $\\sqrt{\\text{Varianza}}$\n",
        "    \n",
        "**Pseudocódigo**:\n",
        "    \n",
        "    def loglogistica(alpha, beta, n):\n",
        "        muestra = []\n",
        "        for i = 1 to n:\n",
        "            u = random(0, 1)\n",
        "            x = alpha * (u / (1 - u))^(1/beta)\n",
        "            muestra.append(x)\n",
        "        return muestra"
      ],
      "metadata": {
        "id": "yIuUFjzTTg-y"
      }
    },
    {
      "cell_type": "markdown",
      "source": [
        "<img src=\"https://upload.wikimedia.org/wikipedia/commons/thumb/e/e1/Loglogisticpdf.svg/1024px-Loglogisticpdf.svg.png\" width=\"350\">\n",
        "<img src=\"https://upload.wikimedia.org/wikipedia/commons/thumb/7/75/Loglogisticcdf.svg/1024px-Loglogisticcdf.svg.png\" width=\"350\">"
      ],
      "metadata": {
        "id": "tTBnZWZ6VVFH"
      }
    },
    {
      "cell_type": "markdown",
      "source": [
        "### 12. Distribución de Johnson\n",
        "El sistema de Johnson incluye familias (SB, SU, etc.). Nos centraremos en el tipo SB (acotada) por simplicidad.\n",
        "    \n",
        "$X \\sim \\text{JohnsonSB}(\\gamma, \\delta, \\xi, \\lambda)$\n",
        "    \n",
        "  **Pseudocódigo**:\n",
        "    \n",
        "    def johnsonsb(gamma, delta, xi, lambda, n):\n",
        "        muestras = []\n",
        "        for i = 1 to n:\n",
        "            z = normal(0, 1)\n",
        "            x = xi + lambda / (1 + exp(-(gamma + delta * z)))\n",
        "            muestras.append(x)\n",
        "        return muestras"
      ],
      "metadata": {
        "id": "kzZwtt-OVhK7"
      }
    },
    {
      "cell_type": "markdown",
      "source": [
        "<img src=\"https://blogs.sas.com/content/iml/files/2020/01/JohnsonSB1.png\" width=\"350\">"
      ],
      "metadata": {
        "id": "oU1IL5p5W5lv"
      }
    },
    {
      "cell_type": "markdown",
      "source": [
        "## Distribuciones discretas\n",
        "\n",
        "### 1. Distribución Uniforme Discreta\n",
        "$X \\sim \\text{DiscretaUniforme}(a, b)$\n",
        "    \n",
        "- **PMF**: $P(X = k) = \\frac{1}{b-a+1}, \\quad k = a, a+1, \\ldots, b$\n",
        "    \n",
        "- **CDF**: $F(k) = \\frac{\\lfloor k \\rfloor - a + 1}{b - a + 1}, \\quad a \\leq k \\leq b$\n",
        "    \n",
        "- **Media**: $\\frac{a + b}{2}$\n",
        "    \n",
        "- **Varianza**: $\\frac{(b - a + 1)^2 - 1}{12}$\n",
        "    \n",
        "- **Desviación Estándar**: $\\sqrt{\\frac{(b - a + 1)^2 - 1}{12}}$\n",
        "    \n",
        "**Pseudocódigo**:\n",
        "    \n",
        "    def uniforme_discreta(a, b, n):\n",
        "        muestra = []\n",
        "        for i = 1 to n:\n",
        "            u = random(0, 1)\n",
        "            k = floor(a + u * (b - a + 1))\n",
        "            muestra.append(k)\n",
        "        return muestra"
      ],
      "metadata": {
        "id": "0o8Qa-v5XQLl"
      }
    },
    {
      "cell_type": "markdown",
      "source": [
        "<img src=\"https://upload.wikimedia.org/wikipedia/commons/thumb/1/13/DUniform_distribution.svg/1024px-DUniform_distribution.svg.png\" width=\"350\">"
      ],
      "metadata": {
        "id": "x79K8HlGYVG7"
      }
    },
    {
      "cell_type": "markdown",
      "source": [
        "### 2. Distribución de Bernoulli $X \\sim \\text{Bernoulli}(p)$\n",
        "    \n",
        "- **PMF**: $P(X = k) = \\begin{cases} p & k = 1 \\\\\\\\ 1-p & k = 0 \\end{cases}$\n",
        "    \n",
        "- **CDF**: $F(k) = \\begin{cases} 0 & k < 0 \\\\\\\\ 1-p & 0 \\leq k < 1 \\\\\\\\ 1 & k \\geq 1 \\end{cases}$\n",
        "    \n",
        "- **Media**: $p$\n",
        "    \n",
        "- **Varianza**: $p(1-p)$\n",
        "    \n",
        "- **Desviación Estándar**: $\\sqrt{p(1-p)}$\n",
        "    \n",
        "**Pseudocódigo**:\n",
        "    \n",
        "    def bernoulli(p, n):\n",
        "        muest = []\n",
        "        for i = 1 to n:\n",
        "            u = random(0, 1)\n",
        "            if u < p:\n",
        "                x = 1\n",
        "            else:\n",
        "                x = 0\n",
        "            muest.append(x)\n",
        "        return muest"
      ],
      "metadata": {
        "id": "yisRQsQkYp9H"
      }
    },
    {
      "cell_type": "markdown",
      "source": [
        "### 3. Distribución Geométrica $X \\sim \\text{Geometrica}(p)$\n",
        "    \n",
        "- **PMF**: $P(X = k) = (1-p)^{k-1} p, \\quad k = 1, 2, \\ldots$\n",
        "    \n",
        "- **CDF**: $F(k) = 1 - (1-p)^{\\lfloor k \\rfloor}, \\quad k \\geq 1$\n",
        "    \n",
        "- **Media**: $\\frac{1}{p}$\n",
        "    \n",
        "- **Varianza**: $\\frac{1-p}{p^2}$\n",
        "    \n",
        "- **Desviación Estándar**: $\\sqrt{\\frac{1-p}{p^2}}$\n",
        "    \n",
        "**Pseudocódigo**:\n",
        "    \n",
        "    def geometrica(p, n):\n",
        "        muest = []\n",
        "        for i = 1 to n:\n",
        "            u = random(0, 1)\n",
        "            k = ceiling(ln(u) / ln(1 - p))\n",
        "            muest.append(k)\n",
        "        return muest"
      ],
      "metadata": {
        "id": "XJljjSFDZa4j"
      }
    },
    {
      "cell_type": "markdown",
      "source": [
        "### 4. Distribución Binomial Negativa:\n",
        "$X \\sim \\text{BinomialNegativa}(r, p)$\n",
        "    \n",
        "- **PMF**: $P(X = k) = \\binom{k + r - 1}{k} p^r (1-p)^k, \\quad k = 0, 1, \\ldots$\n",
        "    \n",
        "- **Media**: $\\frac{r(1-p)}{p}$\n",
        "    \n",
        "- **Varianza**: $\\frac{r(1-p)}{p^2}$\n",
        "    \n",
        "- **Desviación Estándar**: $\\sqrt{\\frac{r(1-p)}{p^2}}$\n",
        "    \n",
        "**Pseudocódgio**:\n",
        "    \n",
        "    def binomial_neg(r, p, n):\n",
        "        muest = []\n",
        "        for i = 1 to n:\n",
        "            k = 0\n",
        "            exitos = 0\n",
        "            while exitos < r:\n",
        "                if random(0, 1) < p:\n",
        "                    exitos += 1\n",
        "                else:\n",
        "                    k += 1\n",
        "            muest.append(k)\n",
        "        return muest"
      ],
      "metadata": {
        "id": "e08KUeS5aa-O"
      }
    },
    {
      "cell_type": "markdown",
      "source": [
        "### 5. Distribución de Poisson $X \\sim \\text{Poisson}(\\lambda)$\n",
        "    \n",
        "- **PMF**: $P(X = k) = \\frac{\\lambda^k e^{-\\lambda}}{k!}, \\quad k = 0, 1, \\ldots$\n",
        "    \n",
        "- **CDF**: $F(k) = \\sum_{j=0}^{\\lfloor k \\rfloor} \\frac{\\lambda^j e^{-\\lambda}}{j!}$\n",
        "    \n",
        "- **Media**: $\\lambda$\n",
        "    \n",
        "- **Varianza**: $\\lambda$\n",
        "    \n",
        "- **Desviación Estándar**: $\\sqrt{\\lambda}$\n",
        "    \n",
        "**Pseudocódigo**:\n",
        "    \n",
        "    def poisson(lambda, n):\n",
        "        lista = []\n",
        "        for i = 1 to n:\n",
        "            k = 0\n",
        "            sum = 0\n",
        "            while sum < lambda:\n",
        "                sum += -ln(random(0, 1))\n",
        "                k += 1\n",
        "            lista.append(k - 1)\n",
        "        return lista"
      ],
      "metadata": {
        "id": "iWPxp35abbN-"
      }
    },
    {
      "cell_type": "markdown",
      "source": [
        "<img src=\"https://upload.wikimedia.org/wikipedia/commons/thumb/1/16/Poisson_pmf.svg/1024px-Poisson_pmf.svg.png\" width=\"350\">\n",
        "<img src=\"https://upload.wikimedia.org/wikipedia/commons/thumb/a/a2/PoissonCDF.png/1024px-PoissonCDF.png\" width=\"350\">"
      ],
      "metadata": {
        "id": "K2wddcDmcT-3"
      }
    }
  ]
}