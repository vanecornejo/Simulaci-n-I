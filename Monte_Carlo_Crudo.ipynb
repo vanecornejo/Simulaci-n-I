{
  "nbformat": 4,
  "nbformat_minor": 0,
  "metadata": {
    "colab": {
      "provenance": [],
      "authorship_tag": "ABX9TyNyRGIjFp8a/mOUBnuvue8J",
      "include_colab_link": true
    },
    "kernelspec": {
      "name": "python3",
      "display_name": "Python 3"
    },
    "language_info": {
      "name": "python"
    }
  },
  "cells": [
    {
      "cell_type": "markdown",
      "metadata": {
        "id": "view-in-github",
        "colab_type": "text"
      },
      "source": [
        "<a href=\"https://colab.research.google.com/github/vanecornejo/Simulaci-n-I/blob/main/Monte_Carlo_Crudo.ipynb\" target=\"_parent\"><img src=\"https://colab.research.google.com/assets/colab-badge.svg\" alt=\"Open In Colab\"/></a>"
      ]
    },
    {
      "cell_type": "markdown",
      "source": [
        "Monte Carlo Crudo (Media muestral)\n",
        "\n"
      ],
      "metadata": {
        "id": "Wvceui7nv8R5"
      }
    },
    {
      "cell_type": "code",
      "execution_count": 3,
      "metadata": {
        "id": "3u_rmqy_smUb"
      },
      "outputs": [],
      "source": [
        "import numpy as np\n",
        "import random\n",
        "import matplotlib.pyplot as plt"
      ]
    },
    {
      "cell_type": "code",
      "source": [
        "def f(x): # definimos la función\n",
        "  funcion = np.sqrt(np.arctan(x)) # función objetivo\n",
        "  return funcion"
      ],
      "metadata": {
        "id": "og3jzT1Cvkwb"
      },
      "execution_count": 7,
      "outputs": []
    },
    {
      "cell_type": "code",
      "source": [
        "def cdf(x):\n",
        "  n = len(x)\n",
        "  y = np.sort(x)\n",
        "  g = np.arange(n)/n\n",
        "  return y, g"
      ],
      "metadata": {
        "id": "FspaLmNcvmSh"
      },
      "execution_count": 20,
      "outputs": []
    },
    {
      "cell_type": "code",
      "source": [
        "def monte_carlo(a, b, n, f):\n",
        "  u = np.random.uniform(a, b, n) # generamos los números aleatorios entre 0 y 1\n",
        "  integral = (b-a) * np.mean(f(u)) # calculamos la integral evaluando\n",
        "  return integral"
      ],
      "metadata": {
        "id": "d-3TboGwxKSb"
      },
      "execution_count": 32,
      "outputs": []
    },
    {
      "source": [
        "def repeticiones(a, b, n, f, N):\n",
        "    resultados = [] # creamos una lista\n",
        "    for i in range(N):\n",
        "        resultados.append(monte_carlo(a, b, n, f))  # guardamos las aproximaciones en la lista\n",
        "    return resultados\n",
        "\n",
        "# The variables N, n, a, and b should be defined outside the function:\n",
        "N = 100000 # número de veces que repetiremos el experimento\n",
        "n = 100 # números aleatorios a generar\n",
        "a = 0 # límite inferior de la integral\n",
        "b = 1 # límite superior de la integral\n",
        "\n",
        "integrales = repeticiones(a, b, n, f, N) # realizamos las repeticiones\n",
        "\n",
        "# calculamos la media y el error estándar\n",
        "media = np.mean(integrales)\n",
        "error = np.std(integrales) / np.sqrt(N)\n",
        "\n",
        "# Imprimimos los resultados\n",
        "print(f\"La integral aproximada es: {media}\")\n",
        "print(f\"El error estándar es: {error}\")"
      ],
      "cell_type": "code",
      "metadata": {
        "colab": {
          "base_uri": "https://localhost:8080/"
        },
        "id": "WnOCWv8o4kWl",
        "outputId": "61aa6503-3dbf-48ca-b64b-5840f572a3e8"
      },
      "execution_count": 37,
      "outputs": [
        {
          "output_type": "stream",
          "name": "stdout",
          "text": [
            "La integral aproximada es: 0.6298283159759707\n",
            "El error estándar es: 6.479844603975418e-05\n"
          ]
        }
      ]
    }
  ]
}