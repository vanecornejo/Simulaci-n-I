{
  "nbformat": 4,
  "nbformat_minor": 0,
  "metadata": {
    "colab": {
      "provenance": [],
      "authorship_tag": "ABX9TyORyoEM2v0osup8198j0G5P",
      "include_colab_link": true
    },
    "kernelspec": {
      "name": "python3",
      "display_name": "Python 3"
    },
    "language_info": {
      "name": "python"
    }
  },
  "cells": [
    {
      "cell_type": "markdown",
      "metadata": {
        "id": "view-in-github",
        "colab_type": "text"
      },
      "source": [
        "<a href=\"https://colab.research.google.com/github/vanecornejo/Simulaci-n-I/blob/main/M%C3%A9todo%20de%20Aceptaci%C3%B3n%20y%20Rechazo.ipynb\" target=\"_parent\"><img src=\"https://colab.research.google.com/assets/colab-badge.svg\" alt=\"Open In Colab\"/></a>"
      ]
    },
    {
      "cell_type": "markdown",
      "source": [
        "# Método de Aceptación y Rechazo\n",
        "\n",
        "El método de aceptación y rechazo es una técnica general para generar variables aleatorias cuando la función de densidad no permite una transformación directa.\n",
        "Consiste en proponer muestras de una distribución más simple y luego aceptarlas o rechazarlas según una condición basada en la relación entre la densidad de la distribución deseada y la densidad de la distribución propuesta.\n",
        "\n",
        "\n",
        "\n",
        "*   **PASO 1:** Generar dos números aleatorios $R_1$ y $R_2$\n",
        "*   **PASO 2:** Determinar $x$\n",
        "$$ x = a + (c-a) R_1 $$\n",
        "*   **PASO 3:** Evaluar $f$ en $x$\n",
        "*   **PASO 4:** Si $R_2 ≤ \\frac{f(x)}{M}$, aceptar $x$. Otro caso, rechazar $x$\n",
        "\n",
        "\n",
        "La distribución triangular con parámetros $a$ (mínimo), $b$ (máximo) y $c$ (modo), tiene una forma triangular (como su nombre indica) y su función de densidad es:\n",
        "$$\n",
        "f(x) =\n",
        "\\begin{cases}\n",
        "\\frac{2(x - a)}{(c - a)(b - a)} & \\text{si } a \\leq x \\leq b \\\\\n",
        "\\frac{-2(x - c)}{(c - a)(c - b)} & \\text{si } b < x \\leq c\n",
        "\\end{cases}\n",
        "$$\n",
        "\n",
        "El siguiente código implementa el método de Aceptación y Rechazo para generar la distribución triangular de parámetros a=1, b=3, c=5."
      ],
      "metadata": {
        "id": "AeVSXhMjsCop"
      }
    },
    {
      "cell_type": "code",
      "execution_count": 29,
      "metadata": {
        "id": "2iKH-tTYeWYY"
      },
      "outputs": [],
      "source": [
        "# Importamos las librerías necesarias\n",
        "import random as rd\n",
        "import numpy as np\n",
        "import matplotlib.pyplot as plt"
      ]
    },
    {
      "cell_type": "code",
      "source": [
        "# Parámetros de la distribución triangular\n",
        "a = 1 # mínimo\n",
        "b = 3  # modo\n",
        "c = 5 # máximo\n",
        "\n",
        "# Función de densidad f(x) de la distribución triangular\n",
        "def triangular(x):\n",
        "    if a <= x <= b:\n",
        "        return 2*(x-a) / ((c-a)*(b-a))\n",
        "    elif b < x <= c:\n",
        "        return ((-2)*(x-c)) / ((c-a)*(c-b))\n",
        "    else:\n",
        "        return 0"
      ],
      "metadata": {
        "id": "pghzAXgcu5PS"
      },
      "execution_count": 30,
      "outputs": []
    },
    {
      "cell_type": "code",
      "source": [
        "# Valor máximo de la función de densidad (en x=b)\n",
        "M = 2/(c-a)\n",
        "\n",
        "# Método de aceptación y rechazo\n",
        "def aceptacion(n):\n",
        "  lista = [] # lista para almacenar los datos aceptados\n",
        "  for i in range(n):\n",
        "    R1 = rd.random()\n",
        "    R2 = rd.random()\n",
        "    x = a + (c-a)*R1  # generar x en [a, c]\n",
        "\n",
        "# Utilizamos la condición if para aceptar o rechazar los valores\n",
        "    if R2 <= triangular(x)/M: #criterio de aceptación\n",
        "      lista.append(x) #guardamos los valores aceptados en la lista creada anteriormente\n",
        "  return lista"
      ],
      "metadata": {
        "id": "S3x7Su2au5Xs"
      },
      "execution_count": 31,
      "outputs": []
    },
    {
      "cell_type": "code",
      "source": [
        "# Mandamos llamar la función de aceptación y rechazo, con 10000 intentos\n",
        "datos = aceptacion(10000)\n",
        "#print(datos) # podemos imprimimos la lista con los valores aceptados"
      ],
      "metadata": {
        "id": "tvUjb2J0vIoD"
      },
      "execution_count": 32,
      "outputs": []
    },
    {
      "cell_type": "code",
      "source": [
        "# Imprimimos el histograma con los valores aceptados\n",
        "plt.hist(datos, bins=100)"
      ],
      "metadata": {
        "colab": {
          "base_uri": "https://localhost:8080/",
          "height": 985
        },
        "id": "bjo54OQLyg2W",
        "outputId": "5d6d3f30-4c95-423c-f948-48781874b2a0"
      },
      "execution_count": 33,
      "outputs": [
        {
          "output_type": "execute_result",
          "data": {
            "text/plain": [
              "(array([  3.,   4.,   7.,  13.,  11.,  12.,  10.,  19.,  17.,  19.,  20.,\n",
              "         29.,  30.,  24.,  30.,  27.,  35.,  33.,  40.,  32.,  45.,  42.,\n",
              "         46.,  45.,  45.,  44.,  47.,  53.,  56.,  50.,  73.,  47.,  77.,\n",
              "         78.,  68.,  65.,  72.,  70.,  85.,  83.,  81.,  87.,  94.,  74.,\n",
              "         95., 104.,  89.,  91.,  77.,  94., 105.,  90., 100.,  84.,  80.,\n",
              "         82., 104.,  73.,  77.,  93.,  69.,  70.,  70.,  57.,  66.,  56.,\n",
              "         69.,  74.,  56.,  62.,  61.,  58.,  75.,  52.,  63.,  58.,  51.,\n",
              "         45.,  47.,  41.,  38.,  47.,  35.,  35.,  39.,  26.,  33.,  22.,\n",
              "         24.,  27.,  24.,  21.,  12.,  13.,  12.,  16.,  15.,   6.,   4.,\n",
              "          7.]),\n",
              " array([1.0388721 , 1.07791199, 1.11695187, 1.15599175, 1.19503164,\n",
              "        1.23407152, 1.2731114 , 1.31215129, 1.35119117, 1.39023106,\n",
              "        1.42927094, 1.46831082, 1.50735071, 1.54639059, 1.58543047,\n",
              "        1.62447036, 1.66351024, 1.70255012, 1.74159001, 1.78062989,\n",
              "        1.81966977, 1.85870966, 1.89774954, 1.93678943, 1.97582931,\n",
              "        2.01486919, 2.05390908, 2.09294896, 2.13198884, 2.17102873,\n",
              "        2.21006861, 2.24910849, 2.28814838, 2.32718826, 2.36622814,\n",
              "        2.40526803, 2.44430791, 2.48334779, 2.52238768, 2.56142756,\n",
              "        2.60046745, 2.63950733, 2.67854721, 2.7175871 , 2.75662698,\n",
              "        2.79566686, 2.83470675, 2.87374663, 2.91278651, 2.9518264 ,\n",
              "        2.99086628, 3.02990616, 3.06894605, 3.10798593, 3.14702581,\n",
              "        3.1860657 , 3.22510558, 3.26414547, 3.30318535, 3.34222523,\n",
              "        3.38126512, 3.420305  , 3.45934488, 3.49838477, 3.53742465,\n",
              "        3.57646453, 3.61550442, 3.6545443 , 3.69358418, 3.73262407,\n",
              "        3.77166395, 3.81070384, 3.84974372, 3.8887836 , 3.92782349,\n",
              "        3.96686337, 4.00590325, 4.04494314, 4.08398302, 4.1230229 ,\n",
              "        4.16206279, 4.20110267, 4.24014255, 4.27918244, 4.31822232,\n",
              "        4.3572622 , 4.39630209, 4.43534197, 4.47438186, 4.51342174,\n",
              "        4.55246162, 4.59150151, 4.63054139, 4.66958127, 4.70862116,\n",
              "        4.74766104, 4.78670092, 4.82574081, 4.86478069, 4.90382057,\n",
              "        4.94286046]),\n",
              " <BarContainer object of 100 artists>)"
            ]
          },
          "metadata": {},
          "execution_count": 33
        },
        {
          "output_type": "display_data",
          "data": {
            "text/plain": [
              "<Figure size 640x480 with 1 Axes>"
            ],
            "image/png": "[encoded data removed]"
          },
          "metadata": {}
        }
      ]
    },
    {
      "cell_type": "code",
      "source": [
        "# Calculamos e imprimimos la media y la varianza de la muestra\n",
        "print(\"La media es:\", np.mean(datos))\n",
        "print(\"La desviación estándar es:\", np.std(datos))\n",
        "\n",
        "# Resultados teóricos\n",
        "media = (a+b+c)/3\n",
        "var = (a**2 + b**2 + c**2 - a*b - a*c - b*c) / 18\n",
        "desv_std= np.sqrt(var)\n",
        "print(\"\\nComparando con los resultados teóricos:\")\n",
        "print(\"La media teórica:\", media)\n",
        "print(\"La desviación estándar teórica:\", desv_std)"
      ],
      "metadata": {
        "colab": {
          "base_uri": "https://localhost:8080/"
        },
        "id": "NIkFljSLvIq9",
        "outputId": "93cc13af-f329-4d14-ef67-ab4e8cfe737b"
      },
      "execution_count": 34,
      "outputs": [
        {
          "output_type": "stream",
          "name": "stdout",
          "text": [
            "La media es: 3.0090539675206345\n",
            "La desviación estándar es: 0.8210085545993513\n",
            "\n",
            "Comparando con los resultados teóricos:\n",
            "La media teórica: 3.0\n",
            "La desviación estándar teórica: 0.816496580927726\n"
          ]
        }
      ]
    },
    {
      "cell_type": "code",
      "source": [
        "# Cuántos valores fueron aceptados\n",
        "len(datos)"
      ],
      "metadata": {
        "colab": {
          "base_uri": "https://localhost:8080/"
        },
        "id": "RKpOvidOy612",
        "outputId": "b5b8e6de-c0b8-412f-d1b0-767edce447c1"
      },
      "execution_count": 35,
      "outputs": [
        {
          "output_type": "execute_result",
          "data": {
            "text/plain": [
              "5036"
            ]
          },
          "metadata": {},
          "execution_count": 35
        }
      ]
    }
  ]
}