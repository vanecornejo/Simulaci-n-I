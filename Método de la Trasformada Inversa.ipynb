{
  "nbformat": 4,
  "nbformat_minor": 0,
  "metadata": {
    "colab": {
      "provenance": [],
      "authorship_tag": "ABX9TyPP6cO+aiqMwCOo9/aTAHt6",
      "include_colab_link": true
    },
    "kernelspec": {
      "name": "python3",
      "display_name": "Python 3"
    },
    "language_info": {
      "name": "python"
    }
  },
  "cells": [
    {
      "cell_type": "markdown",
      "metadata": {
        "id": "view-in-github",
        "colab_type": "text"
      },
      "source": [
        "<a href=\"https://colab.research.google.com/github/vanecornejo/Simulaci-n-I/blob/main/M%C3%A9todo%20de%20la%20Trasformada%20Inversa.ipynb\" target=\"_parent\"><img src=\"https://colab.research.google.com/assets/colab-badge.svg\" alt=\"Open In Colab\"/></a>"
      ]
    },
    {
      "cell_type": "markdown",
      "source": [
        "# Método de la Transformada Inversa\n",
        "\n",
        "Es un método directo que consiste en transformar una variable uniforme $U~U(0,1)$ mediante la inversa de la función de distribución acumulada (FDC) de la distribución deseada.\n",
        "\n",
        "\n",
        "\n",
        "*   **PASO 1:** Dado $f(x)$, calculamos $\\int_{-\\infty}^x f(z)\\,dz$\n",
        "\n",
        "*   **PASO 2:** Suponer $R~U(0,1)$ y resolver $F(x)=R$ para obtener $x=F^{-1}(R)$\n",
        "\n",
        "La distribución triangular para este método con parámetros $a$ (mínimo), $b$ (máximo) y $c$ (modo) y su FDC es:\n",
        "$$\n",
        "f(x) =\n",
        "\\begin{cases}\n",
        "\\frac{(x-a)^2}{(c - a)(b - a)} & \\text{si } a \\leq x \\leq b \\\\\n",
        "1+\\frac{(x - c)^2}{(c - a)(b - c)} & \\text{si } b < x \\leq c\n",
        "\\end{cases}\n",
        "$$\n",
        "\n",
        "La inversa de la FDC se calcula también por tramos:\n",
        "\n",
        "Si $R < \\frac{b-a}{c-a}$, entonces:\n",
        "$$ X = a + \\sqrt{R(c-a)(b-a)} $$\n",
        "\n",
        "Si $R \\geq \\frac{b-a}{c-a}$, entonces:\n",
        "$$ X = c - \\sqrt{(1-R)(c-a)(c-b)} $$\n",
        "\n",
        "\n",
        "El siguiente código implementa el método de la Transformada Inversa para generar la distribución triangular de parámetros a=1, b=3, c=5."
      ],
      "metadata": {
        "id": "lN86ktavBs3c"
      }
    },
    {
      "cell_type": "code",
      "execution_count": 37,
      "metadata": {
        "id": "PAFEoTEhjxio"
      },
      "outputs": [],
      "source": [
        "import random as rd\n",
        "import numpy as np\n",
        "import matplotlib.pyplot as plt"
      ]
    },
    {
      "cell_type": "code",
      "source": [
        "# Parámetros:\n",
        "a = 1 # mínimo\n",
        "c = 5 # modo\n",
        "b = 3  # máximo\n",
        "\n",
        "# Método de la transformada inversa que genera la distribución triangular\n",
        "def triangular(a, b, c, n):\n",
        "  x = [] # lista para almacenar los datos\n",
        "  for i in range(n):\n",
        "    R = rd.random() # genermos números aleatorios\n",
        "    if R < (b-a) / (c-a): # condición\n",
        "      x.append(a + np.sqrt(R*(c-a)*(b-a))) # guardamos los valores en la lista creada anteriormente\n",
        "    else:\n",
        "      x.append(c - np.sqrt((1-R)*(c-a)*(c-b))) # guardamos los valores en la lista creada anteriormente\n",
        "  return x"
      ],
      "metadata": {
        "id": "RdpZqGQQCdfQ"
      },
      "execution_count": 38,
      "outputs": []
    },
    {
      "cell_type": "code",
      "source": [
        "# Mandamos llamar la función del método, con 10000 intentos\n",
        "n = 10000\n",
        "datos = triangular(a, b, c, n)"
      ],
      "metadata": {
        "id": "MiWGANvCGDj3"
      },
      "execution_count": 39,
      "outputs": []
    },
    {
      "cell_type": "code",
      "source": [
        "# Graficamos el histograma\n",
        "plt.hist(datos, bins=100)"
      ],
      "metadata": {
        "colab": {
          "base_uri": "https://localhost:8080/",
          "height": 985
        },
        "id": "A_S47BQ8DXRa",
        "outputId": "58147c49-a730-44c0-e144-287ee0d8c336"
      },
      "execution_count": 40,
      "outputs": [
        {
          "output_type": "execute_result",
          "data": {
            "text/plain": [
              "(array([  6.,   4.,  10.,  20.,  18.,  32.,  20.,  34.,  32.,  49.,  40.,\n",
              "         51.,  54.,  32.,  58.,  70.,  57.,  62.,  79.,  72.,  81.,  92.,\n",
              "         85., 105.,  83., 113.,  92., 107., 124., 109., 134., 118., 136.,\n",
              "        106., 136., 132., 145., 160., 162., 175., 148., 163., 165., 162.,\n",
              "        156., 176., 189., 204., 207., 194., 210., 197., 180., 171., 205.,\n",
              "        194., 162., 141., 179., 153., 160., 137., 145., 150., 133., 125.,\n",
              "        146., 138., 127., 121., 128., 129., 109., 107., 109., 109.,  79.,\n",
              "         89.,  91.,  97.,  89.,  69.,  64.,  59.,  63.,  64.,  58.,  55.,\n",
              "         44.,  40.,  36.,  28.,  43.,  34.,  24.,  19.,  11.,  11.,   5.,\n",
              "          4.]),\n",
              " array([1.02355914, 1.0631115 , 1.10266386, 1.14221623, 1.18176859,\n",
              "        1.22132095, 1.26087332, 1.30042568, 1.33997804, 1.37953041,\n",
              "        1.41908277, 1.45863513, 1.49818749, 1.53773986, 1.57729222,\n",
              "        1.61684458, 1.65639695, 1.69594931, 1.73550167, 1.77505404,\n",
              "        1.8146064 , 1.85415876, 1.89371113, 1.93326349, 1.97281585,\n",
              "        2.01236821, 2.05192058, 2.09147294, 2.1310253 , 2.17057767,\n",
              "        2.21013003, 2.24968239, 2.28923476, 2.32878712, 2.36833948,\n",
              "        2.40789185, 2.44744421, 2.48699657, 2.52654893, 2.5661013 ,\n",
              "        2.60565366, 2.64520602, 2.68475839, 2.72431075, 2.76386311,\n",
              "        2.80341548, 2.84296784, 2.8825202 , 2.92207256, 2.96162493,\n",
              "        3.00117729, 3.04072965, 3.08028202, 3.11983438, 3.15938674,\n",
              "        3.19893911, 3.23849147, 3.27804383, 3.3175962 , 3.35714856,\n",
              "        3.39670092, 3.43625328, 3.47580565, 3.51535801, 3.55491037,\n",
              "        3.59446274, 3.6340151 , 3.67356746, 3.71311983, 3.75267219,\n",
              "        3.79222455, 3.83177692, 3.87132928, 3.91088164, 3.950434  ,\n",
              "        3.98998637, 4.02953873, 4.06909109, 4.10864346, 4.14819582,\n",
              "        4.18774818, 4.22730055, 4.26685291, 4.30640527, 4.34595763,\n",
              "        4.38551   , 4.42506236, 4.46461472, 4.50416709, 4.54371945,\n",
              "        4.58327181, 4.62282418, 4.66237654, 4.7019289 , 4.74148127,\n",
              "        4.78103363, 4.82058599, 4.86013835, 4.89969072, 4.93924308,\n",
              "        4.97879544]),\n",
              " <BarContainer object of 100 artists>)"
            ]
          },
          "metadata": {},
          "execution_count": 40
        },
        {
          "output_type": "display_data",
          "data": {
            "text/plain": [
              "<Figure size 640x480 with 1 Axes>"
            ],
            "image/png": "[encoded data removed]"
          },
          "metadata": {}
        }
      ]
    },
    {
      "cell_type": "code",
      "source": [
        "# Calculamos e imprimimos la media y la varianza de la muestra\n",
        "print(\"La media es:\", np.mean(datos))\n",
        "print(\"La desviación estándar es:\", np.std(datos))\n",
        "\n",
        "# Resultados teóricos\n",
        "media = (a+b+c)/3\n",
        "var = (a**2 + b**2 + c**2 - a*b - a*c - b*c) / 18\n",
        "desv_estand = np.sqrt(var)\n",
        "print(\"\\nComparando con los resultados teóricos:\")\n",
        "print(\"La media teórica:\", media)\n",
        "print(\"La desviación estándar teórica:\", desv_estand)"
      ],
      "metadata": {
        "colab": {
          "base_uri": "https://localhost:8080/"
        },
        "id": "m6rYKVvnC1lN",
        "outputId": "39edf9e3-8f39-438b-c760-3da553c626a9"
      },
      "execution_count": 41,
      "outputs": [
        {
          "output_type": "stream",
          "name": "stdout",
          "text": [
            "La media es: 3.009390642571802\n",
            "La desviación estándar es: 0.8142201748366995\n",
            "\n",
            "Comparando con los resultados teóricos:\n",
            "La media teórica: 3.0\n",
            "La desviación estándar teórica: 0.816496580927726\n"
          ]
        }
      ]
    }
  ]
}