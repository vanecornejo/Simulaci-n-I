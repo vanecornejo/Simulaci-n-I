{
  "nbformat": 4,
  "nbformat_minor": 0,
  "metadata": {
    "colab": {
      "provenance": [],
      "authorship_tag": "ABX9TyN1plBoVlj0ys6BBkpvtD1j",
      "include_colab_link": true
    },
    "kernelspec": {
      "name": "python3",
      "display_name": "Python 3"
    },
    "language_info": {
      "name": "python"
    }
  },
  "cells": [
    {
      "cell_type": "markdown",
      "metadata": {
        "id": "view-in-github",
        "colab_type": "text"
      },
      "source": [
        "<a href=\"https://colab.research.google.com/github/vanecornejo/Simulaci-n-I/blob/main/m%C3%A9todo_del_cuadrado_medio.ipynb\" target=\"_parent\"><img src=\"https://colab.research.google.com/assets/colab-badge.svg\" alt=\"Open In Colab\"/></a>"
      ]
    },
    {
      "cell_type": "markdown",
      "source": [
        "# Método del cuadrado medio\n",
        "\n",
        "El método del medio del cuadrado es un algoritmo de generación de números pseudoaleatorios propuesto por John von Neumann en 1949. Consiste en tomar un número inicial (semilla) de 4 dígitos, elevarlo al cuadrado y extraer los dígitos centrales del resultado para formar el siguiente número de la secuencia. Este proceso se repite iterativamente para generar una serie de números aleatorios.\n",
        "\n",
        "Procedimiento:\n",
        "1.   **Seleccionar una semilla:** Elegir un número inicial de 4 dígitos.\n",
        "2.   **Elevar al cuadrado:** Calcular el cuadrado de la semilla. Obteniendo un número de hasta 8 dígitos en este caso.\n",
        "3. **Extraer dígitos centrales:** Si el resultado tiene menos de 8 dígitos, se rellena con ceros a la izquierda hasta completar los 8 dígitos. Luego, se toman los 4 dígitos centrales de este número.\n",
        "4. **Nueva semilla:** El número obtenido en el paso anterior se utiliza como la nueva semilla.\n",
        "5. **Repetir:** Se repiten los pasos 2 a 4 hasta *n* iteraciones."
      ],
      "metadata": {
        "id": "Ev4Vuy6klzKJ"
      }
    },
    {
      "cell_type": "markdown",
      "source": [
        "Para implementar el código, primero vamos a importar la librería tabulate"
      ],
      "metadata": {
        "id": "VXwbavGmnWQC"
      }
    },
    {
      "cell_type": "code",
      "source": [
        "from tabulate import tabulate"
      ],
      "metadata": {
        "id": "e-_73sDenpX8"
      },
      "execution_count": 16,
      "outputs": []
    },
    {
      "cell_type": "markdown",
      "source": [
        "definimos el número semilla de 4 dígitos, en este caso tomamos el número 7965 para hacer el procedimiento, y tomamos 50 iteraciones"
      ],
      "metadata": {
        "id": "da7Mucrdnp7B"
      }
    },
    {
      "cell_type": "code",
      "source": [
        "semilla = 7965  # número semilla de 4 dígitos\n",
        "n = 50  # número de iteraciones"
      ],
      "metadata": {
        "id": "orXXtafFnqjX"
      },
      "execution_count": null,
      "outputs": []
    },
    {
      "cell_type": "markdown",
      "source": [
        "definimos la función cuadrado medio con las variables *semilla* y *n*, y creamos un arreglo para guardar los datos de la tabla"
      ],
      "metadata": {
        "id": "A98s563YnrAt"
      }
    },
    {
      "cell_type": "code",
      "source": [
        "def cuadrado_medio(semilla, n): #definimos la función cuadrado medio\n",
        "    datos = []  # almacenar los datos de la tabla"
      ],
      "metadata": {
        "id": "EtKWwedInwuQ"
      },
      "execution_count": null,
      "outputs": []
    },
    {
      "cell_type": "markdown",
      "source": [
        "iniciamos el proceso iterativo con el bucle *for*"
      ],
      "metadata": {
        "id": "q2xQRTYpnxYN"
      }
    },
    {
      "cell_type": "code",
      "source": [
        "for i in range(n):\n",
        "        cuadrado = semilla ** 2  # elevar el número de la semilla al cuadrado\n",
        "        cuadrado_str = str(cuadrado).zfill(8)  # rellenar con ceros si es necesario\n",
        "        medios = cuadrado_str[2:6] # extraer los 4 dígitos centrales\n",
        "        datos.append([i + 1, semilla, cuadrado, medios]) # almacenar en la lista\n",
        "        semilla = int(medios) # Convertir los dígitos extraídos en el nuevo número semilla"
      ],
      "metadata": {
        "id": "zYC2qVzZrO-Q"
      },
      "execution_count": null,
      "outputs": []
    },
    {
      "cell_type": "markdown",
      "source": [
        "definimos los nombres de los encabezados para la tabla e imprimimos nuestra tabla con los datos correspondientes"
      ],
      "metadata": {
        "id": "_4mC9Y7WryWq"
      }
    },
    {
      "cell_type": "code",
      "source": [
        "encabezados = [\"no.\", \"x\", \"x^2\", \"nuevo x\"] # definimos nombres de los encabezados de la tabla\n",
        "    print(tabulate(datos, headers=encabezados, tablefmt=\"grid\")) # imprime la tabla"
      ],
      "metadata": {
        "id": "UDLXJromrx4j"
      },
      "execution_count": null,
      "outputs": []
    },
    {
      "cell_type": "markdown",
      "source": [
        "llamamos nuestra función de cuadrado medio para ejecutar el programa"
      ],
      "metadata": {
        "id": "tBDxrXZgrdqL"
      }
    },
    {
      "cell_type": "code",
      "source": [
        "cuadrado_medio(semilla, n)"
      ],
      "metadata": {
        "collapsed": true,
        "id": "xGQsvNNWMY4V"
      },
      "execution_count": null,
      "outputs": []
    },
    {
      "cell_type": "code",
      "source": [],
      "metadata": {
        "colab": {
          "base_uri": "https://localhost:8080/"
        },
        "id": "LAlg6zdxtuID",
        "outputId": "4a7dcf80-79c5-430a-d1cd-482307ee6f9d"
      },
      "execution_count": 19,
      "outputs": [
        {
          "output_type": "stream",
          "name": "stdout",
          "text": [
            "+-------+------+----------+-----------+\n",
            "|   no. |    x |      x^2 |   nuevo x |\n",
            "+=======+======+==========+===========+\n",
            "|     1 | 7965 | 63441225 |      4412 |\n",
            "+-------+------+----------+-----------+\n",
            "|     2 | 4412 | 19465744 |      4657 |\n",
            "+-------+------+----------+-----------+\n",
            "|     3 | 4657 | 21687649 |      6876 |\n",
            "+-------+------+----------+-----------+\n",
            "|     4 | 6876 | 47279376 |      2793 |\n",
            "+-------+------+----------+-----------+\n",
            "|     5 | 2793 |  7800849 |      8008 |\n",
            "+-------+------+----------+-----------+\n",
            "|     6 | 8008 | 64128064 |      1280 |\n",
            "+-------+------+----------+-----------+\n",
            "|     7 | 1280 |  1638400 |      6384 |\n",
            "+-------+------+----------+-----------+\n",
            "|     8 | 6384 | 40755456 |      7554 |\n",
            "+-------+------+----------+-----------+\n",
            "|     9 | 7554 | 57062916 |      0629 |\n",
            "+-------+------+----------+-----------+\n",
            "|    10 |  629 |   395641 |      3956 |\n",
            "+-------+------+----------+-----------+\n",
            "|    11 | 3956 | 15649936 |      6499 |\n",
            "+-------+------+----------+-----------+\n",
            "|    12 | 6499 | 42237001 |      2370 |\n",
            "+-------+------+----------+-----------+\n",
            "|    13 | 2370 |  5616900 |      6169 |\n",
            "+-------+------+----------+-----------+\n",
            "|    14 | 6169 | 38056561 |      0565 |\n",
            "+-------+------+----------+-----------+\n",
            "|    15 |  565 |   319225 |      3192 |\n",
            "+-------+------+----------+-----------+\n",
            "|    16 | 3192 | 10188864 |      1888 |\n",
            "+-------+------+----------+-----------+\n",
            "|    17 | 1888 |  3564544 |      5645 |\n",
            "+-------+------+----------+-----------+\n",
            "|    18 | 5645 | 31866025 |      8660 |\n",
            "+-------+------+----------+-----------+\n",
            "|    19 | 8660 | 74995600 |      9956 |\n",
            "+-------+------+----------+-----------+\n",
            "|    20 | 9956 | 99121936 |      1219 |\n",
            "+-------+------+----------+-----------+\n",
            "|    21 | 1219 |  1485961 |      4859 |\n",
            "+-------+------+----------+-----------+\n",
            "|    22 | 4859 | 23609881 |      6098 |\n",
            "+-------+------+----------+-----------+\n",
            "|    23 | 6098 | 37185604 |      1856 |\n",
            "+-------+------+----------+-----------+\n",
            "|    24 | 1856 |  3444736 |      4447 |\n",
            "+-------+------+----------+-----------+\n",
            "|    25 | 4447 | 19775809 |      7758 |\n",
            "+-------+------+----------+-----------+\n",
            "|    26 | 7758 | 60186564 |      1865 |\n",
            "+-------+------+----------+-----------+\n",
            "|    27 | 1865 |  3478225 |      4782 |\n",
            "+-------+------+----------+-----------+\n",
            "|    28 | 4782 | 22867524 |      8675 |\n",
            "+-------+------+----------+-----------+\n",
            "|    29 | 8675 | 75255625 |      2556 |\n",
            "+-------+------+----------+-----------+\n",
            "|    30 | 2556 |  6533136 |      5331 |\n",
            "+-------+------+----------+-----------+\n",
            "|    31 | 5331 | 28419561 |      4195 |\n",
            "+-------+------+----------+-----------+\n",
            "|    32 | 4195 | 17598025 |      5980 |\n",
            "+-------+------+----------+-----------+\n",
            "|    33 | 5980 | 35760400 |      7604 |\n",
            "+-------+------+----------+-----------+\n",
            "|    34 | 7604 | 57820816 |      8208 |\n",
            "+-------+------+----------+-----------+\n",
            "|    35 | 8208 | 67371264 |      3712 |\n",
            "+-------+------+----------+-----------+\n",
            "|    36 | 3712 | 13778944 |      7789 |\n",
            "+-------+------+----------+-----------+\n",
            "|    37 | 7789 | 60668521 |      6685 |\n",
            "+-------+------+----------+-----------+\n",
            "|    38 | 6685 | 44689225 |      6892 |\n",
            "+-------+------+----------+-----------+\n",
            "|    39 | 6892 | 47499664 |      4996 |\n",
            "+-------+------+----------+-----------+\n",
            "|    40 | 4996 | 24960016 |      9600 |\n",
            "+-------+------+----------+-----------+\n",
            "|    41 | 9600 | 92160000 |      1600 |\n",
            "+-------+------+----------+-----------+\n",
            "|    42 | 1600 |  2560000 |      5600 |\n",
            "+-------+------+----------+-----------+\n",
            "|    43 | 5600 | 31360000 |      3600 |\n",
            "+-------+------+----------+-----------+\n",
            "|    44 | 3600 | 12960000 |      9600 |\n",
            "+-------+------+----------+-----------+\n",
            "|    45 | 9600 | 92160000 |      1600 |\n",
            "+-------+------+----------+-----------+\n",
            "|    46 | 1600 |  2560000 |      5600 |\n",
            "+-------+------+----------+-----------+\n",
            "|    47 | 5600 | 31360000 |      3600 |\n",
            "+-------+------+----------+-----------+\n",
            "|    48 | 3600 | 12960000 |      9600 |\n",
            "+-------+------+----------+-----------+\n",
            "|    49 | 9600 | 92160000 |      1600 |\n",
            "+-------+------+----------+-----------+\n",
            "|    50 | 1600 |  2560000 |      5600 |\n",
            "+-------+------+----------+-----------+\n"
          ]
        }
      ]
    }
  ]
}