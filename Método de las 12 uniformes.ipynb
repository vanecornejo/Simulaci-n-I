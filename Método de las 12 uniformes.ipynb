{
  "nbformat": 4,
  "nbformat_minor": 0,
  "metadata": {
    "colab": {
      "provenance": [],
      "authorship_tag": "ABX9TyNjuZxhz3a2+6rvDBphGi4Q",
      "include_colab_link": true
    },
    "kernelspec": {
      "name": "python3",
      "display_name": "Python 3"
    },
    "language_info": {
      "name": "python"
    }
  },
  "cells": [
    {
      "cell_type": "markdown",
      "metadata": {
        "id": "view-in-github",
        "colab_type": "text"
      },
      "source": [
        "<a href=\"https://colab.research.google.com/github/vanecornejo/Simulaci-n-I/blob/main/M%C3%A9todo%20de%20las%2012%20uniformes.ipynb\" target=\"_parent\"><img src=\"https://colab.research.google.com/assets/colab-badge.svg\" alt=\"Open In Colab\"/></a>"
      ]
    },
    {
      "cell_type": "markdown",
      "source": [
        "# Método de las 12 uniformes\n",
        "\n",
        "El método de las 12 uniformes se basa en el Teorema Central del Límite (TCL), que establece que la suma de muchas variables aleatorias independientes e idénticamente distribuidas tiende a una distribución normal, independientemente de la distribución original.\n",
        "\n",
        "\n",
        "Transformación a una normal general $ \\mathcal{N}(\\mu, \\sigma^2) $\n",
        "\n",
        "Una variable normal general se obtiene a partir de una normal estándar aplicando la siguiente transformación:\n",
        "$$ X = \\mu + \\sigma Z $$\n",
        "\n",
        "Donde:\n",
        "- $ Z \\sim \\mathcal{N}(0,1) $ (obtenido con el método de las 12 uniformes),\n",
        "- $\\mu$ es la media deseada,\n",
        "- $ \\sigma = \\sqrt{\\text{varianza}} $ es la desviación estándar.\n",
        "\n",
        "Por tanto, combinando con el método de las 12 uniformes:\n",
        "$$ Z = \\sum_{i=1}^{12} U_i - 6 $$\n",
        "\n",
        "Entonces:\n",
        "$$ X = \\mu + \\sigma \\left( \\sum_{i=1}^{12} U_i - 6 \\right) $$\n",
        "\n",
        "Esta fórmula genera una variable aleatoria que se aproxima a una distribución normal $\\mathcal{N}(\\mu, \\sigma^2)$, utilizando únicamente variables uniformes en el intervalo [0,1].\n"
      ],
      "metadata": {
        "id": "bGpHZJVyKjGF"
      }
    },
    {
      "cell_type": "code",
      "source": [
        "# Importamos las librerías necesarias\n",
        "import random as rd\n",
        "import numpy as np\n",
        "import matplotlib.pyplot as plt"
      ],
      "metadata": {
        "id": "JUYsZMm5J89q"
      },
      "execution_count": 37,
      "outputs": []
    },
    {
      "cell_type": "code",
      "source": [
        "# Parámetros para la distribución normal\n",
        "media = 10\n",
        "desviacion = 2"
      ],
      "metadata": {
        "id": "alpJlTyRJ9J5"
      },
      "execution_count": 38,
      "outputs": []
    },
    {
      "cell_type": "code",
      "source": [
        "# Generación con método de las 12 uniformes\n",
        "def uniformes(n):\n",
        "  lista = [] # creamos una lista para guardar los valores\n",
        "  for i in range(n):\n",
        "    # Generamos 12 números uniformemente distribuidos entre 0 y 1\n",
        "    num_uniformes = []\n",
        "    for i in range(12):\n",
        "      numero = rd.random() # obtenemos números aleatorios\n",
        "      num_uniformes.append(numero)\n",
        "\n",
        "    # Sumamos los 12 números y restamos 6\n",
        "    suma_uniformes = sum(num_uniformes)\n",
        "    normal_aproximada = suma_uniformes - 6  #aproximación a la normal estándar\n",
        "\n",
        "    # Escalamos a N(10, 4)\n",
        "    valor = media + desviacion * normal_aproximada # transformación a N(media, desviación^2)\n",
        "    lista.append(valor) # guardamos en la lista\n",
        "  return lista"
      ],
      "metadata": {
        "id": "vf8KSrj4J9TS"
      },
      "execution_count": 39,
      "outputs": []
    },
    {
      "cell_type": "code",
      "source": [
        "# Número de muestras\n",
        "n = 10000\n",
        "datos = uniformes(n)"
      ],
      "metadata": {
        "id": "dbIprsmjJ9U3"
      },
      "execution_count": 40,
      "outputs": []
    },
    {
      "cell_type": "code",
      "source": [
        "# Graficamos el histograma\n",
        "plt.hist(datos, bins=50, color='skyblue', edgecolor='black')\n",
        "plt.title(\"Histograma de muestra generada (Método de las 12 uniformes)\")\n",
        "plt.show()"
      ],
      "metadata": {
        "colab": {
          "base_uri": "https://localhost:8080/",
          "height": 453
        },
        "id": "C_T0J0SFJ9YB",
        "outputId": "f6acf614-1e48-4f36-8170-fd95a41aacc2"
      },
      "execution_count": 41,
      "outputs": [
        {
          "output_type": "display_data",
          "data": {
            "text/plain": [
              "<Figure size 640x480 with 1 Axes>"
            ],
            "image/png": "[encoded data removed]"
          },
          "metadata": {}
        }
      ]
    },
    {
      "cell_type": "code",
      "source": [
        "# Cálculo de la media y varianza\n",
        "media_muestral = np.mean(datos)\n",
        "desviacion_muestral = np.std(datos)\n",
        "\n",
        "# Imprimimos los resultados teóricos y los muestrales\n",
        "print(\"Datos teóricos:\")\n",
        "print(\"La media teórica es:\", media)\n",
        "print(\"La desviación estándar teórica es:\", desviacion)\n",
        "\n",
        "print(\"\\nDatos obtenidos:\")\n",
        "print(\"La media muestral es:\", media_muestral)\n",
        "print(\"La desviación estándar muestral es:\", desviacion_muestral)"
      ],
      "metadata": {
        "colab": {
          "base_uri": "https://localhost:8080/"
        },
        "id": "aZI6ZiV4KLBM",
        "outputId": "cad905e4-85de-4ed3-bfa9-484b498393a7"
      },
      "execution_count": 42,
      "outputs": [
        {
          "output_type": "stream",
          "name": "stdout",
          "text": [
            "Datos teóricos:\n",
            "La media teórica es: 10\n",
            "La desviación estándar teórica es: 2\n",
            "\n",
            "Datos obtenidos:\n",
            "La media muestral es: 10.010307015836165\n",
            "La desviación estándar muestral es: 2.011281059431974\n"
          ]
        }
      ]
    }
  ]
}