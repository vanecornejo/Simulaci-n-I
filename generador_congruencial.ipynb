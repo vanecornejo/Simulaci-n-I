{
  "nbformat": 4,
  "nbformat_minor": 0,
  "metadata": {
    "colab": {
      "provenance": [],
      "authorship_tag": "ABX9TyPBPCsOLPmajAmtaMq2hfC6"
    },
    "kernelspec": {
      "name": "python3",
      "display_name": "Python 3"
    },
    "language_info": {
      "name": "python"
    }
  },
  "cells": [
    {
      "cell_type": "code",
      "source": [
        "from tabulate import tabulate  # importamos tabulate\n",
        "\n",
        "# definimos las constantes enteras del generador congruencial\n",
        "a = 35\n",
        "c = 24\n",
        "m = 22  # módulo\n",
        "xi = 3  # semilla\n",
        "\n",
        "def generador(a, c, m, xi): # definimos una función\n",
        "    x = (a * xi + c) % m  # fórmula del generador congruencial\n",
        "    return x  # retorna el nuevo valor generado\n",
        "\n",
        "muestra = [] # lista donde almacenaremos los valores generados\n",
        "\n",
        "# bucle que genera los números aleatorios\n",
        "for i in range(50):\n",
        "    nuevo = generador(a, c, m, xi)  # crea el siguiente número\n",
        "    muestra.append([i, xi, nuevo / m])  # guarda la iteración, el valor anterior y el nuevo valor normalizado\n",
        "    xi = nuevo  # actualiza xi\n",
        "\n",
        "encabezados = [\"i\", \"x_i\", \"x_i+1\"] # encabezados de la tabla que imprimiremos\n",
        "\n",
        "print(tabulate(muestra, headers=encabezados, tablefmt=\"grid\")) # imprime la tabla con los datos\n",
        "\n"
      ],
      "metadata": {
        "id": "znjj9MfIcUj6",
        "colab": {
          "base_uri": "https://localhost:8080/"
        },
        "outputId": "3d4f7d92-5093-4927-d129-231bedb19d0c"
      },
      "execution_count": null,
      "outputs": [
        {
          "output_type": "stream",
          "name": "stdout",
          "text": [
            "  i    x_i      x_i+1\n",
            "---  -----  ---------\n",
            "  0      3  0.863636\n",
            "  1     19  0.318182\n",
            "  2      7  0.227273\n",
            "  3      5  0.0454545\n",
            "  4      1  0.681818\n",
            "  5     15  0.954545\n",
            "  6     21  0.5\n",
            "  7     11  0.590909\n",
            "  8     13  0.772727\n",
            "  9     17  0.136364\n",
            " 10      3  0.863636\n",
            " 11     19  0.318182\n",
            " 12      7  0.227273\n",
            " 13      5  0.0454545\n",
            " 14      1  0.681818\n",
            " 15     15  0.954545\n",
            " 16     21  0.5\n",
            " 17     11  0.590909\n",
            " 18     13  0.772727\n",
            " 19     17  0.136364\n",
            " 20      3  0.863636\n",
            " 21     19  0.318182\n",
            " 22      7  0.227273\n",
            " 23      5  0.0454545\n",
            " 24      1  0.681818\n",
            " 25     15  0.954545\n",
            " 26     21  0.5\n",
            " 27     11  0.590909\n",
            " 28     13  0.772727\n",
            " 29     17  0.136364\n",
            " 30      3  0.863636\n",
            " 31     19  0.318182\n",
            " 32      7  0.227273\n",
            " 33      5  0.0454545\n",
            " 34      1  0.681818\n",
            " 35     15  0.954545\n",
            " 36     21  0.5\n",
            " 37     11  0.590909\n",
            " 38     13  0.772727\n",
            " 39     17  0.136364\n",
            " 40      3  0.863636\n",
            " 41     19  0.318182\n",
            " 42      7  0.227273\n",
            " 43      5  0.0454545\n",
            " 44      1  0.681818\n",
            " 45     15  0.954545\n",
            " 46     21  0.5\n",
            " 47     11  0.590909\n",
            " 48     13  0.772727\n",
            " 49     17  0.136364\n"
          ]
        }
      ]
    }
  ]
}