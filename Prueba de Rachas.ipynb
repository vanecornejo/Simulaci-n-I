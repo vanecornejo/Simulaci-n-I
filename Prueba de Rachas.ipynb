{
  "nbformat": 4,
  "nbformat_minor": 0,
  "metadata": {
    "colab": {
      "provenance": [],
      "authorship_tag": "ABX9TyPOzA+ysQhzrBUydid9400b",
      "include_colab_link": true
    },
    "kernelspec": {
      "name": "python3",
      "display_name": "Python 3"
    },
    "language_info": {
      "name": "python"
    }
  },
  "cells": [
    {
      "cell_type": "markdown",
      "metadata": {
        "id": "view-in-github",
        "colab_type": "text"
      },
      "source": [
        "<a href=\"https://colab.research.google.com/github/vanecornejo/Simulaci-n-I/blob/main/Prueba%20de%20Rachas.ipynb\" target=\"_parent\"><img src=\"https://colab.research.google.com/assets/colab-badge.svg\" alt=\"Open In Colab\"/></a>"
      ]
    },
    {
      "cell_type": "markdown",
      "source": [
        "# Prueba de Rachas\n",
        "Es una prueba para ver si es aleatorio el orden de aparición de dos valores de una variable. Una racha es una secuencia de observaciones similares. Una muestra con un número excesivamente grande o excesivamente pequeño de rachas sugiere que la muestra no es aleatoria.\n",
        "\n",
        "\n",
        "Tenemos las hipótesis: \\\\\n",
        "H0 : X_i son independientes \\\\\n",
        "H1 : X_i no son independientes\n",
        "\n",
        "Los pasos para realizar la prueba de rachas son:\n",
        "*   PASO 1: Determinar una secuencia *S* de unos y ceros: \\\\\n",
        "generando 0 si $x_i < x_(i-1)$ \\\\\n",
        "ó generando 1 si $x_i ≥ x_(i-1)$ \\\\\n",
        "donde n es el número de dato de la muestra, y *S* tiene n-1 términos\n",
        "*   PASO 2: Hallar el número de carridas (rachas) observadas\n",
        "*   PASO 3: Calcular el valor esperado y la varianza del número de corridas\n",
        "\n",
        "\n",
        " $μ = (2n-1)/3$ \\\\\n",
        " $σ² = (16n-29)/90$ \\\\\n",
        " $Z_0 = (corridas-μ)/σ$\n",
        "\n",
        "\n",
        "Así, el intervalo de aceptación es: \\\\\n",
        " $-Z_(α/2) ≤ Z_0 ≤ Z_(α/2)$\n",
        "\n",
        "\\\\\n",
        "Para este programa, utilizamos la muestra 1 dada en clase con un nivel de aceptación del 95%\n",
        "\n",
        "\n",
        "\n",
        "\n"
      ],
      "metadata": {
        "id": "qgR0iyXg0HC5"
      }
    },
    {
      "cell_type": "code",
      "source": [
        "import scipy.stats as stats  # importamos esta librería para calcular el valor crítico de la distribución normal estándar\n",
        "\n",
        "datos = [0.048,0.926,0.368,0.787,0.298,0.591,0.007,0.437,0.594,0.199,0.478,0.551,0.178,0.086,0.157,0.166,0.362,0.411,0.951,0.401,0.932,0.533,0.545,0.772,0.631]\n",
        "n = len(datos) #tamaño de la muestra\n",
        "\n",
        "def prueba_rachas(secuencia):\n",
        "    # secuencia S de unos y ceros: 0 si decrece y 1 si es igual o aumenta\n",
        "    S = [1 if secuencia[i] >= secuencia[i - 1] else 0 for i in range(1, len(secuencia))]\n",
        "\n",
        "    rachas = 1 #contador de rachas\n",
        "    for i in range(1, len(S)):\n",
        "        if S[i] != S[i - 1]: # indica las rachas: cuando hay un cambio de 0 a 1 o de 1 a 0\n",
        "            rachas += 1\n",
        "\n",
        "    media = ((2*n)-1) / 3  # media esperada\n",
        "    varianza = ((16*n)-29) / 90  # varianza esperada\n",
        "    z = (rachas-media)/(varianza ** (1/2))  # cálculo de Zo\n",
        "\n",
        "    alpha = 0.05  # nivel de confianza del 95%\n",
        "    z_alpha = stats.norm.ppf(1 - alpha / 2)  # valor crítico de la distribución normal estándar\n",
        "    p_value = 2 * (1 - stats.norm.cdf(abs(z))) # calcula el p-value\n",
        "\n",
        "    return rachas, media, varianza, z, p_value, z_alpha\n",
        "\n",
        "# ejecutar prueba de rachas\n",
        "rachas, media, varianza, z, p_value, z_alpha = prueba_rachas(datos)\n",
        "\n",
        "# imprimir resultados\n",
        "print(f\"Número de rachas = {rachas}\")\n",
        "print(f\"Media esperada de rachas = {media:.4f}\")\n",
        "print(f\"Varianza esperada de rachas = {varianza:.4f}\")\n",
        "print(f\"Z = {z:.4f}\")\n",
        "print(f\"Z_(alpha/2) = {z_alpha}\")\n",
        "print(f\"p-value = {p_value:.4f}\")\n",
        "\n",
        "if -z_alpha <= z <= z_alpha:\n",
        "     print(\"Como Z se encuentra dentro del intervalo de aceptación, no se rechaza la hipótesis nula\")\n",
        "else:\n",
        "    print(\"Z no se encuentra dentro del intervalo de aceptación. Por lo tanto, se rechaza la hipótesis nula\")\n"
      ],
      "metadata": {
        "colab": {
          "base_uri": "https://localhost:8080/"
        },
        "id": "9feQRko4gDP9",
        "outputId": "7a1c8bce-38e6-4c0e-d7c1-02e1d62ba4f0"
      },
      "execution_count": 6,
      "outputs": [
        {
          "output_type": "stream",
          "name": "stdout",
          "text": [
            "Número de rachas = 16\n",
            "Media esperada de rachas = 16.3333\n",
            "Varianza esperada de rachas = 4.1222\n",
            "Z = -0.1642\n",
            "Z_(alpha/2) = 1.959963984540054\n",
            "p-value = 0.8696\n",
            "Como Z se encuentra dentro del intervalo de aceptación, no se rechaza la hipótesis nula\n"
          ]
        }
      ]
    }
  ]
}