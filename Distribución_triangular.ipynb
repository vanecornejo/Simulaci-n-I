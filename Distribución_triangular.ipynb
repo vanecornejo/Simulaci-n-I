{
  "nbformat": 4,
  "nbformat_minor": 0,
  "metadata": {
    "colab": {
      "provenance": [],
      "authorship_tag": "ABX9TyPRMLcSMuACMTsxKgy4181o",
      "include_colab_link": true
    },
    "kernelspec": {
      "name": "python3",
      "display_name": "Python 3"
    },
    "language_info": {
      "name": "python"
    }
  },
  "cells": [
    {
      "cell_type": "markdown",
      "metadata": {
        "id": "view-in-github",
        "colab_type": "text"
      },
      "source": [
        "<a href=\"https://colab.research.google.com/github/vanecornejo/Simulaci-n-I/blob/main/Distribuci%C3%B3n_triangular.ipynb\" target=\"_parent\"><img src=\"https://colab.research.google.com/assets/colab-badge.svg\" alt=\"Open In Colab\"/></a>"
      ]
    },
    {
      "cell_type": "markdown",
      "source": [
        "# Distribución triangular transformada inversa"
      ],
      "metadata": {
        "id": "DHB2ViU252TP"
      }
    },
    {
      "cell_type": "code",
      "execution_count": null,
      "metadata": {
        "id": "13mrlVz9WUsE"
      },
      "outputs": [],
      "source": [
        "import numpy as np\n",
        "import matplotlib.pyplot as plt\n",
        "from random import random"
      ]
    },
    {
      "cell_type": "code",
      "source": [
        "def triangular(a, b, c, n):\n",
        "  x = []\n",
        "  for i in range(n):\n",
        "    R = random()\n",
        "    if R < (b-a) / (c-a):\n",
        "      x.append(a + np.sqrt(R*(c-a)*(b-a)))\n",
        "    else:\n",
        "      x.append(c - np.sqrt((1-R)*(c-a)*(c-b)))\n",
        "  return x"
      ],
      "metadata": {
        "id": "Fna4ti7A58Nd"
      },
      "execution_count": null,
      "outputs": []
    },
    {
      "cell_type": "code",
      "source": [
        "a = 1\n",
        "b = 3\n",
        "c = 5\n",
        "n = 1000\n",
        "\n",
        "tri = triangular(a, b, c, n)"
      ],
      "metadata": {
        "id": "TXMq401o58cF"
      },
      "execution_count": null,
      "outputs": []
    },
    {
      "cell_type": "code",
      "source": [
        "plt.hist(tri, bins=100)"
      ],
      "metadata": {
        "colab": {
          "base_uri": "https://localhost:8080/",
          "height": 951
        },
        "id": "5aijjVl058rd",
        "outputId": "2186924c-f9ad-4cf9-b3a8-f5428cd48753"
      },
      "execution_count": null,
      "outputs": [
        {
          "output_type": "execute_result",
          "data": {
            "text/plain": [
              "(array([ 3.,  0.,  0.,  1.,  3.,  3.,  3.,  4.,  3.,  4.,  5.,  3.,  7.,\n",
              "         6.,  4.,  4.,  6.,  9.,  6.,  3., 11., 14.,  6., 13., 10., 12.,\n",
              "         8., 11., 10.,  9., 12., 11., 15., 16., 16., 11.,  8., 12., 20.,\n",
              "         8., 18., 18., 18., 15.,  9., 22., 17., 16., 19., 18., 25., 20.,\n",
              "        23., 18., 20., 14., 19., 15., 14., 14., 21., 12., 22., 24., 12.,\n",
              "        15., 10., 18., 15., 21., 12.,  7.,  5., 11.,  3., 10.,  6.,  4.,\n",
              "        10.,  7.,  8.,  6.,  5., 13.,  6.,  5.,  2.,  8., 10.,  6.,  4.,\n",
              "         4.,  3.,  2.,  4.,  2.,  3.,  1.,  0.,  1.]),\n",
              " array([1.10442221, 1.14254025, 1.18065829, 1.21877634, 1.25689438,\n",
              "        1.29501242, 1.33313046, 1.37124851, 1.40936655, 1.44748459,\n",
              "        1.48560264, 1.52372068, 1.56183872, 1.59995676, 1.63807481,\n",
              "        1.67619285, 1.71431089, 1.75242893, 1.79054698, 1.82866502,\n",
              "        1.86678306, 1.90490111, 1.94301915, 1.98113719, 2.01925523,\n",
              "        2.05737328, 2.09549132, 2.13360936, 2.1717274 , 2.20984545,\n",
              "        2.24796349, 2.28608153, 2.32419958, 2.36231762, 2.40043566,\n",
              "        2.4385537 , 2.47667175, 2.51478979, 2.55290783, 2.59102587,\n",
              "        2.62914392, 2.66726196, 2.70538   , 2.74349805, 2.78161609,\n",
              "        2.81973413, 2.85785217, 2.89597022, 2.93408826, 2.9722063 ,\n",
              "        3.01032434, 3.04844239, 3.08656043, 3.12467847, 3.16279652,\n",
              "        3.20091456, 3.2390326 , 3.27715064, 3.31526869, 3.35338673,\n",
              "        3.39150477, 3.42962281, 3.46774086, 3.5058589 , 3.54397694,\n",
              "        3.58209499, 3.62021303, 3.65833107, 3.69644911, 3.73456716,\n",
              "        3.7726852 , 3.81080324, 3.84892128, 3.88703933, 3.92515737,\n",
              "        3.96327541, 4.00139346, 4.0395115 , 4.07762954, 4.11574758,\n",
              "        4.15386563, 4.19198367, 4.23010171, 4.26821975, 4.3063378 ,\n",
              "        4.34445584, 4.38257388, 4.42069193, 4.45880997, 4.49692801,\n",
              "        4.53504605, 4.5731641 , 4.61128214, 4.64940018, 4.68751822,\n",
              "        4.72563627, 4.76375431, 4.80187235, 4.8399904 , 4.87810844,\n",
              "        4.91622648]),\n",
              " <BarContainer object of 100 artists>)"
            ]
          },
          "metadata": {},
          "execution_count": 11
        },
        {
          "output_type": "display_data",
          "data": {
            "text/plain": [
              "<Figure size 640x480 with 1 Axes>"
            ],
            "image/png": "[encoded data removed]"
          },
          "metadata": {}
        }
      ]
    },
    {
      "cell_type": "code",
      "source": [
        "print(\"La media es:\", np.mean(tri))\n",
        "print(\"La varianza es:\", np.var(tri))"
      ],
      "metadata": {
        "colab": {
          "base_uri": "https://localhost:8080/"
        },
        "id": "irD_SAkO8K6-",
        "outputId": "b172437b-e123-41c6-9b56-6aa21cf1fab6"
      },
      "execution_count": null,
      "outputs": [
        {
          "output_type": "stream",
          "name": "stdout",
          "text": [
            "La media es: 3.024439899136856\n",
            "La varianza es: 0.6330208274926273\n"
          ]
        }
      ]
    },
    {
      "cell_type": "code",
      "source": [
        "# ordenamos los datos\n",
        "tri.sort()"
      ],
      "metadata": {
        "id": "qcrsOisRA_wM"
      },
      "execution_count": null,
      "outputs": []
    }
  ]
}