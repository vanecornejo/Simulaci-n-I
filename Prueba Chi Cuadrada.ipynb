{
  "nbformat": 4,
  "nbformat_minor": 0,
  "metadata": {
    "colab": {
      "provenance": [],
      "authorship_tag": "ABX9TyN52Bl4VESzP4BDX8XFT3Ol",
      "include_colab_link": true
    },
    "kernelspec": {
      "name": "python3",
      "display_name": "Python 3"
    },
    "language_info": {
      "name": "python"
    }
  },
  "cells": [
    {
      "cell_type": "markdown",
      "metadata": {
        "id": "view-in-github",
        "colab_type": "text"
      },
      "source": [
        "<a href=\"https://colab.research.google.com/github/vanecornejo/Simulaci-n-I/blob/main/Prueba%20Chi%20Cuadrada.ipynb\" target=\"_parent\"><img src=\"https://colab.research.google.com/assets/colab-badge.svg\" alt=\"Open In Colab\"/></a>"
      ]
    },
    {
      "cell_type": "markdown",
      "source": [
        "\n",
        "# Prueba Chi-Cuadrada\n",
        "La prueba Chi-Cuadrada es una prueba de ajuste, la cual es una prueba estadística que permite determinar si una muestra de datos se ajusta a una determinada distribución de probabilidad o no. Es decir, la prueba de bondad de ajuste sirve para verificar si los datos observados se ajustan a los datos esperados.\n",
        "La prueba de bondad de ajuste utilizada es:\n",
        "\n",
        "Ho := Los números siguen una distribución uniforme U(0,1)\n",
        "\n",
        "H1 := No Ho\n",
        "\n",
        "Los pasos para realizar esta prueba de bondad son:\n",
        "\n",
        "*   Paso 1: Formular la hipótesis nula (H0) y la hipótesis alternativa (H1)\n",
        "*   Paso 2:Seleccionar el nivel de significancia, en este caso, del 95%\n",
        "*   Paso 3: Seleccionar el estadístico con la fórmula\n",
        "*   Paso 4: Formular la regla de decisión (puntos críticos)\n",
        "\n",
        "Se presenta el código comentado que realiza la prueba Chi-Cuadrada, realizada con la muestra 1 dada en clase.\n",
        "\n",
        "\n",
        "\n"
      ],
      "metadata": {
        "id": "g-dd_uLgOdCf"
      }
    },
    {
      "cell_type": "code",
      "source": [
        "import scipy.stats as stats #librería para calcular valores relacionados con la Chi-Cuadrada\n",
        "from tabulate import tabulate  #librería para imprimir los datos en una tabla\n",
        "\n",
        "datos = [0.048, 0.926, 0.368, 0.787, 0.298, 0.591, 0.007, 0.437, 0.594, 0.199, 0.478, 0.551, 0.178, 0.086, 0.157, 0.166, 0.362, 0.411, 0.951, 0.401, 0.932, 0.533, 0.545, 0.772, 0.631]\n",
        "clases = 5\n",
        "\n",
        "def prueba_chi(datos, clases):\n",
        "    muestra = len(datos) # tamaño de la muestra\n",
        "\n",
        "    # definimos los límites de los intervalos\n",
        "    step = 1 / clases # tamaño de cada intervalo\n",
        "    intervalos = [(i*step, (i+1)*step) for i in range(clases)]\n",
        "\n",
        "    frecuencia = [0] * clases # inicializar la lista para contar la frecuencia observada en cada intervalo\n",
        "    # contar cuántos valores caen en cada intervalo\n",
        "    for num in datos:\n",
        "        for i, (low, high) in enumerate(intervalos):\n",
        "            if low <= num < high: # verifica si el número está dentro del intervalo actual\n",
        "                frecuencia[i] += 1\n",
        "                break\n",
        "\n",
        "    fe = [muestra / clases] * clases # frecuencia esperada\n",
        "\n",
        "    # calcular Chi-Cuadrado\n",
        "    chi_cuadrada = sum((obs - exp) ** 2 / exp for obs, exp in zip(frecuencia, fe)) # fórmula\n",
        "    df = clases - 1  # grados de libertad\n",
        "    valor_critico = stats.chi2.ppf(0.95, df)  # valor crítico para un nivel de confianza del 95%\n",
        "    p_value = 1 - stats.chi2.cdf(chi_cuadrada, df) # calcula el p-value comparando el estadístico obtenido con la distribución Chi-Cuadrado\n",
        "\n",
        "    # para la tabla\n",
        "    tabla = [[f\"[{low:.2f}, {high:.2f})\", obs, exp, obs - exp, (obs - exp) ** 2 / exp] for (low, high), obs, exp in zip(intervalos, frecuencia, fe)]\n",
        "    headers = [\"Intervalo\", \"Fo\", \"Fe\", \"Fo - Fe\", \"(Fo-Fe)^2 / Fe\"]\n",
        "\n",
        "    # imprimir resultados y tabla\n",
        "    print(tabulate(tabla, headers=headers, tablefmt=\"grid\"))\n",
        "    print(f\"\\nEstadístico Chi-Cuadrado: {chi_cuadrada:.4f}\")\n",
        "    print(f\"Valor Crítico (α=0.05): {valor_critico:.4f}\")\n",
        "    print(f\"el p-value: {p_value:.4f}\")\n",
        "\n",
        "    # evaluar la hipótesis nula\n",
        "    if chi_cuadrada < valor_critico:\n",
        "        print(\"No se rechaza la hipótesis nula\")\n",
        "    else:\n",
        "        print(\"Se rechaza la hipótesis nula\")\n",
        "\n",
        "prueba_chi(datos, clases) # llamar a la prueba\n"
      ],
      "metadata": {
        "colab": {
          "base_uri": "https://localhost:8080/"
        },
        "id": "k4KM4lMnArhc",
        "outputId": "a0cc59a6-2395-4258-e9ae-351f961e3855"
      },
      "execution_count": 2,
      "outputs": [
        {
          "output_type": "stream",
          "name": "stdout",
          "text": [
            "+--------------+------+------+-----------+------------------+\n",
            "| Intervalo    |   Fo |   Fe |   Fo - Fe |   (Fo-Fe)^2 / Fe |\n",
            "+==============+======+======+===========+==================+\n",
            "| [0.00, 0.20) |    7 |    5 |         2 |              0.8 |\n",
            "+--------------+------+------+-----------+------------------+\n",
            "| [0.20, 0.40) |    3 |    5 |        -2 |              0.8 |\n",
            "+--------------+------+------+-----------+------------------+\n",
            "| [0.40, 0.60) |    9 |    5 |         4 |              3.2 |\n",
            "+--------------+------+------+-----------+------------------+\n",
            "| [0.60, 0.80) |    3 |    5 |        -2 |              0.8 |\n",
            "+--------------+------+------+-----------+------------------+\n",
            "| [0.80, 1.00) |    3 |    5 |        -2 |              0.8 |\n",
            "+--------------+------+------+-----------+------------------+\n",
            "\n",
            "Estadístico Chi-Cuadrado: 6.4000\n",
            "Valor Crítico (α=0.05): 9.4877\n",
            "el p-value: 0.1712\n",
            "No se rechaza la hipótesis nula\n"
          ]
        }
      ]
    }
  ]
}