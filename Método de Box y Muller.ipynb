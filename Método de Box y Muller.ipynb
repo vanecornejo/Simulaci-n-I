{
  "nbformat": 4,
  "nbformat_minor": 0,
  "metadata": {
    "colab": {
      "provenance": [],
      "authorship_tag": "ABX9TyOcIY/Wz6GEyUvwg6CLtM/7",
      "include_colab_link": true
    },
    "kernelspec": {
      "name": "python3",
      "display_name": "Python 3"
    },
    "language_info": {
      "name": "python"
    }
  },
  "cells": [
    {
      "cell_type": "markdown",
      "metadata": {
        "id": "view-in-github",
        "colab_type": "text"
      },
      "source": [
        "<a href=\"https://colab.research.google.com/github/vanecornejo/Simulaci-n-I/blob/main/M%C3%A9todo%20de%20Box%20y%20Muller.ipynb\" target=\"_parent\"><img src=\"https://colab.research.google.com/assets/colab-badge.svg\" alt=\"Open In Colab\"/></a>"
      ]
    },
    {
      "cell_type": "markdown",
      "source": [
        "# Método de Box-Muller"
      ],
      "metadata": {
        "id": "9JITBs6Ca6vu"
      }
    },
    {
      "cell_type": "code",
      "source": [
        "# Importamos las librerías necesarias\n",
        "import numpy as np\n",
        "import random as rd\n",
        "import matplotlib.pyplot as plt"
      ],
      "metadata": {
        "id": "3vEgdAQAJEDz"
      },
      "execution_count": 16,
      "outputs": []
    },
    {
      "cell_type": "code",
      "source": [
        "# Método de Box-Muller para generar n números con una distribución normal estándar\n",
        "def box_muller(n):\n",
        "    lista = []  # Lista para almacenar los números generados\n",
        "    for i in range(n // 2):  # cada iteración genera 2 números normales\n",
        "        u1 = rd.random()  # generamos números pseudoaleatorios\n",
        "        u2 = rd.random()\n",
        "\n",
        "        # Aplicamos el método Box-Muller\n",
        "        r = np.sqrt(-2*np.log(u1))\n",
        "        theta = 2*np.pi*u2\n",
        "        z1 = r*np.cos(theta)  # primer número normal\n",
        "        z2 = r*np.sin(theta)  # segundo número normal\n",
        "\n",
        "        lista.extend([z1, z2])  # añadimos ambos a la lista\n",
        "\n",
        "    if n%2 == 1:  # si n es impar, generamos un número extra\n",
        "        u1 = rd.random()\n",
        "        u2 = rd.random()\n",
        "        r = np.sqrt(-2*np.log(u1))\n",
        "        theta = 2*np.pi*u2\n",
        "        z1 = r*np.cos(theta)\n",
        "        lista.append(z1)\n",
        "\n",
        "    return np.array(lista)  # Convertimos la lista a un array de NumPy"
      ],
      "metadata": {
        "id": "9m5PlGClJEnd"
      },
      "execution_count": 17,
      "outputs": []
    },
    {
      "cell_type": "code",
      "source": [
        "# Número de datos a generar\n",
        "n = 10000\n",
        "# Generamos los datos con distribución normal estándar\n",
        "datos = box_muller(n)"
      ],
      "metadata": {
        "id": "ZUqYBdqEJGOI"
      },
      "execution_count": 18,
      "outputs": []
    },
    {
      "cell_type": "code",
      "source": [
        "# Cálculo de la media y la desviación estándar\n",
        "media = np.mean(datos)\n",
        "desviacion = np.std(datos)\n",
        "\n",
        "# Imprimimos los resultados teóricos y los muestrales\n",
        "print(\"Datos obtenidos:\")\n",
        "print(\"La media obtenida es:\", media)\n",
        "print(\"La desviación estándar obtenida es:\", desviacion)\n",
        "\n",
        "print(\"\\nDatos teóricos:\")\n",
        "print(\"La media teórica es: 0\")\n",
        "print(\"La desviación estándar teórica es: 1\")"
      ],
      "metadata": {
        "colab": {
          "base_uri": "https://localhost:8080/"
        },
        "id": "-gaXhC12JGEU",
        "outputId": "f49bc640-27c6-4f5e-b6c8-d26026600dd9"
      },
      "execution_count": 19,
      "outputs": [
        {
          "output_type": "stream",
          "name": "stdout",
          "text": [
            "Datos obtenidos:\n",
            "La media obtenida es: -0.010182841573976226\n",
            "La desviación estándar obtenida es: 0.9926474571532528\n",
            "\n",
            "Datos teóricos:\n",
            "La media teórica es: 0\n",
            "La desviación estándar teórica es: 1\n"
          ]
        }
      ]
    },
    {
      "cell_type": "code",
      "source": [
        "# Graficar histograma de los datos generados\n",
        "plt.hist(datos, bins=100, color='skyblue', edgecolor='black')"
      ],
      "metadata": {
        "colab": {
          "base_uri": "https://localhost:8080/",
          "height": 985
        },
        "id": "Mn0YXyotJEdS",
        "outputId": "aea8da0d-24bc-49c3-c63b-25bba4cd0502"
      },
      "execution_count": 20,
      "outputs": [
        {
          "output_type": "execute_result",
          "data": {
            "text/plain": [
              "(array([  3.,   0.,   0.,   0.,   1.,   0.,   3.,   0.,   1.,   4.,   2.,\n",
              "          1.,   3.,  10.,   9.,   8.,  12.,  12.,  19.,  24.,  24.,  38.,\n",
              "         40.,  52.,  57.,  54.,  66.,  59.,  83.,  84.,  74., 112., 110.,\n",
              "        120., 137., 172., 169., 189., 214., 219., 217., 246., 223., 266.,\n",
              "        264., 285., 305., 281., 302., 262., 280., 340., 282., 288., 280.,\n",
              "        298., 254., 263., 257., 244., 213., 192., 174., 164., 175., 172.,\n",
              "        149., 131., 134., 114., 104.,  96.,  82.,  71.,  55.,  55.,  52.,\n",
              "         37.,  33.,  19.,  19.,  22.,  19.,  19.,  22.,   8.,  16.,   4.,\n",
              "          7.,   3.,   3.,   4.,   1.,   3.,   1.,   1.,   0.,   1.,   2.,\n",
              "          1.]),\n",
              " array([-3.71697027, -3.64361718, -3.57026408, -3.49691098, -3.42355788,\n",
              "        -3.35020478, -3.27685168, -3.20349858, -3.13014549, -3.05679239,\n",
              "        -2.98343929, -2.91008619, -2.83673309, -2.76337999, -2.69002689,\n",
              "        -2.6166738 , -2.5433207 , -2.4699676 , -2.3966145 , -2.3232614 ,\n",
              "        -2.2499083 , -2.17655521, -2.10320211, -2.02984901, -1.95649591,\n",
              "        -1.88314281, -1.80978971, -1.73643661, -1.66308352, -1.58973042,\n",
              "        -1.51637732, -1.44302422, -1.36967112, -1.29631802, -1.22296492,\n",
              "        -1.14961183, -1.07625873, -1.00290563, -0.92955253, -0.85619943,\n",
              "        -0.78284633, -0.70949323, -0.63614014, -0.56278704, -0.48943394,\n",
              "        -0.41608084, -0.34272774, -0.26937464, -0.19602154, -0.12266845,\n",
              "        -0.04931535,  0.02403775,  0.09739085,  0.17074395,  0.24409705,\n",
              "         0.31745015,  0.39080324,  0.46415634,  0.53750944,  0.61086254,\n",
              "         0.68421564,  0.75756874,  0.83092183,  0.90427493,  0.97762803,\n",
              "         1.05098113,  1.12433423,  1.19768733,  1.27104043,  1.34439352,\n",
              "         1.41774662,  1.49109972,  1.56445282,  1.63780592,  1.71115902,\n",
              "         1.78451212,  1.85786521,  1.93121831,  2.00457141,  2.07792451,\n",
              "         2.15127761,  2.22463071,  2.29798381,  2.3713369 ,  2.44469   ,\n",
              "         2.5180431 ,  2.5913962 ,  2.6647493 ,  2.7381024 ,  2.8114555 ,\n",
              "         2.88480859,  2.95816169,  3.03151479,  3.10486789,  3.17822099,\n",
              "         3.25157409,  3.32492719,  3.39828028,  3.47163338,  3.54498648,\n",
              "         3.61833958]),\n",
              " <BarContainer object of 100 artists>)"
            ]
          },
          "metadata": {},
          "execution_count": 20
        },
        {
          "output_type": "display_data",
          "data": {
            "text/plain": [
              "<Figure size 640x480 with 1 Axes>"
            ],
            "image/png": "[encoded data removed]"
          },
          "metadata": {}
        }
      ]
    }
  ]
}