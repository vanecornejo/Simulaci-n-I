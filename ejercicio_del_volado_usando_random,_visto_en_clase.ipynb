{
  "nbformat": 4,
  "nbformat_minor": 0,
  "metadata": {
    "colab": {
      "provenance": [],
      "authorship_tag": "ABX9TyNOrRB/+uBz+V4M0itFEKUp",
      "include_colab_link": true
    },
    "kernelspec": {
      "name": "python3",
      "display_name": "Python 3"
    },
    "language_info": {
      "name": "python"
    }
  },
  "cells": [
    {
      "cell_type": "markdown",
      "metadata": {
        "id": "view-in-github",
        "colab_type": "text"
      },
      "source": [
        "<a href=\"https://colab.research.google.com/github/vanecornejo/Simulaci-n-I/blob/main/ejercicio_del_volado_usando_random%2C_visto_en_clase.ipynb\" target=\"_parent\"><img src=\"https://colab.research.google.com/assets/colab-badge.svg\" alt=\"Open In Colab\"/></a>"
      ]
    },
    {
      "cell_type": "markdown",
      "source": [
        "Ejercicio volado"
      ],
      "metadata": {
        "id": "wYkM27uywoe1"
      }
    },
    {
      "cell_type": "code",
      "source": [
        "import random\n",
        "\n",
        "def volado(n):\n",
        "  x=[]\n",
        "  aguila = 0\n",
        "  sol = 0\n",
        "  for i in range(n):\n",
        "    rand_num = random.random()\n",
        "    if 0 < rand_num < 0.5:\n",
        "      x.append(\"aguila\")\n",
        "      aguila += 1\n",
        "    else:\n",
        "      x.append(\"sol\")\n",
        "      sol += 1\n",
        "\n",
        "  prob_aguila = aguila/n\n",
        "  prob_sol = sol/n\n",
        "\n",
        "  print(\"P(A) = \", prob_aguila)\n",
        "  print(\"P(S) =\", prob_sol)\n",
        "\n",
        "volado(10)\n"
      ],
      "metadata": {
        "colab": {
          "base_uri": "https://localhost:8080/"
        },
        "id": "DUGM6ncqVcLy",
        "outputId": "1a3b6230-9ee3-4a68-f6d3-b741ad31b8c5"
      },
      "execution_count": null,
      "outputs": [
        {
          "output_type": "stream",
          "name": "stdout",
          "text": [
            "P(A) =  0.6\n",
            "P(S) = 0.4\n"
          ]
        }
      ]
    }
  ]
}