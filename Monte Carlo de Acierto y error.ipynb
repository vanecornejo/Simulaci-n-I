{
  "nbformat": 4,
  "nbformat_minor": 0,
  "metadata": {
    "colab": {
      "provenance": [],
      "authorship_tag": "ABX9TyORpHC5uEzqUkwT0mfcFhAX",
      "include_colab_link": true
    },
    "kernelspec": {
      "name": "python3",
      "display_name": "Python 3"
    },
    "language_info": {
      "name": "python"
    }
  },
  "cells": [
    {
      "cell_type": "markdown",
      "metadata": {
        "id": "view-in-github",
        "colab_type": "text"
      },
      "source": [
        "<a href=\"https://colab.research.google.com/github/vanecornejo/Simulaci-n-I/blob/main/Monte%20Carlo%20de%20Acierto%20y%20error.ipynb\" target=\"_parent\"><img src=\"https://colab.research.google.com/assets/colab-badge.svg\" alt=\"Open In Colab\"/></a>"
      ]
    },
    {
      "cell_type": "markdown",
      "source": [
        "# Monte Carlo Acierto y Error\n",
        "\n",
        "El método de Monte Carlo es una técnica numérica que se basa en la generación de números aleatorios para estimar soluciones a problemas matemáticos y físicos. Este método es especialmente útil cuando la función es difícil de integrar analíticamente. \\\\\n",
        "En este caso, lo utilizamos para aproximar la integral de una función en un intervalo dado.\n",
        "\n",
        "\n",
        "El método de Monte Carlo de acierto y error se basa en la siguiente idea:\n",
        "1.   Se genera un rectángulo de referencia que encierra la curva de la función $f(x)$ en el intervalo $[a,b]$.\n",
        "2.   Se lanzan puntos aleatorios dentro de este rectángulo.\n",
        "3.   Se cuenta cuántos puntos caen bajo la curva de $f(x)$.\n",
        "4.   La proporción de puntos dentro del área bajo la curva respecto al total de puntos generados permite estimar la integral.\n",
        "\n",
        "En este caso, haremos el ejercicio con la siguiente integral\n",
        "$$\\int _0 ^1 \\sqrt{arctan(x)} dx$$"
      ],
      "metadata": {
        "id": "0kXHacFg2Sz4"
      }
    },
    {
      "cell_type": "markdown",
      "source": [
        "Importamos las librerías necesarias para nuestro programa\n",
        "numpy para los cálculos, matplotlib.pyplot para la gráfica y random para generar números aleatorios."
      ],
      "metadata": {
        "id": "71s1sXqfEWQ3"
      }
    },
    {
      "cell_type": "code",
      "source": [
        "import numpy as np\n",
        "import matplotlib.pyplot as plt\n",
        "import random as rd"
      ],
      "metadata": {
        "collapsed": true,
        "id": "jQ2pXiSQ8Z3p"
      },
      "execution_count": 23,
      "outputs": []
    },
    {
      "cell_type": "code",
      "source": [
        "# Definimos la función objetivo\n",
        "def f(x):\n",
        "    return np.sqrt(np.arctan(x))"
      ],
      "metadata": {
        "id": "jH5GzRYfB7XQ"
      },
      "execution_count": 24,
      "outputs": []
    },
    {
      "cell_type": "markdown",
      "source": [],
      "metadata": {
        "id": "ajMQ7x7xB7ke"
      }
    },
    {
      "cell_type": "code",
      "source": [
        "sup = f(1) # definimos la cota superior de la función en [0,1]\n",
        "\n",
        "def dardos(n):\n",
        "    exitos = 0  # contador de éxitos obtenidos\n",
        "    for i in range(n):\n",
        "        u1 = rd.uniform(0, 1)\n",
        "        u2 = rd.uniform(0, sup)\n",
        "\n",
        "        if u2 <= f(u1):\n",
        "            exitos += 1  # si el punto cae dentro del contador, se suma un éxito al contador\n",
        "    prob = exitos / n  # la probabilidad\n",
        "    integral = prob * (1*sup)  # obtenemos la integral estimada, con el área del rectángulo base = 1*f(1)\n",
        "    return integral"
      ],
      "metadata": {
        "id": "F9zILHjLB7w-"
      },
      "execution_count": 25,
      "outputs": []
    },
    {
      "cell_type": "markdown",
      "source": [
        "Ahora, se va a definir una función que ejecuta múltiples experimentos y almacena los resultados en una lista\n"
      ],
      "metadata": {
        "id": "UGd9PNM1B7_7"
      }
    },
    {
      "cell_type": "code",
      "source": [
        "def experimentos(m, n):\n",
        "    lista = []\n",
        "    for i in range(m):\n",
        "        d = dardos(n)\n",
        "        lista.append(d)\n",
        "    return lista"
      ],
      "metadata": {
        "id": "4O4OZ7PYB8Ld"
      },
      "execution_count": 26,
      "outputs": []
    },
    {
      "cell_type": "markdown",
      "source": [
        "Damos el número de experimentos que vamos a realizar y el número de puntos que se lanzarán por experimento, calculamos los valores estadísticos e imprimimos resultados."
      ],
      "metadata": {
        "id": "txTfVGG3B8W-"
      }
    },
    {
      "cell_type": "code",
      "source": [
        "m = 1000  # Número de experimentos\n",
        "n = 10000  # Número de puntos por experimento\n",
        "\n",
        "L = experimentos(m, n) # ejecutamos los experimentos\n",
        "\n",
        "media = np.mean(L) # calcula la media\n",
        "desviacion = np.std(L) # calcula desviación estándar\n",
        "error = desviacion / np.sqrt(m) # calculamos el error estadístico\n",
        "\n",
        "# imprimimos resultados\n",
        "print(f\"El valor estimado de la integral es: {L[-1]}\")\n",
        "print(f\"La media de las estimaciones es: {media}\")\n",
        "print(f\"El error estándar es: {error}\")"
      ],
      "metadata": {
        "colab": {
          "base_uri": "https://localhost:8080/"
        },
        "id": "7Apx0uOpB8h-",
        "outputId": "75b4ed03-ec9c-4139-d5a3-8a9e9b4e67b9"
      },
      "execution_count": 29,
      "outputs": [
        {
          "output_type": "stream",
          "name": "stdout",
          "text": [
            "El valor estimado de la integral es: 0.6347157240092652\n",
            "La media de las estimaciones es: 0.629796278346077\n",
            "El error estándar es: 0.00012746648111719726\n"
          ]
        }
      ]
    },
    {
      "cell_type": "markdown",
      "source": [
        "Graficamos la función objetivo f(x)"
      ],
      "metadata": {
        "id": "6-HFlNGhB8t4"
      }
    },
    {
      "cell_type": "code",
      "source": [
        "# Gráfica de la función f(x)\n",
        "x = np.linspace(0, 1, 400)\n",
        "y = f(x)\n",
        "plt.plot(x, y)\n",
        "plt.axhline(f(1))\n",
        "plt.axvline(1)\n",
        "plt.xlabel(\"x\")\n",
        "plt.ylabel(\"f(x)\")"
      ],
      "metadata": {
        "colab": {
          "base_uri": "https://localhost:8080/",
          "height": 466
        },
        "id": "NUScBBsKB84g",
        "outputId": "35aedd61-eecf-4936-9553-55ef13710c91"
      },
      "execution_count": 31,
      "outputs": [
        {
          "output_type": "execute_result",
          "data": {
            "text/plain": [
              "Text(0, 0.5, 'f(x)')"
            ]
          },
          "metadata": {},
          "execution_count": 31
        },
        {
          "output_type": "display_data",
          "data": {
            "text/plain": [
              "<Figure size 640x480 with 1 Axes>"
            ],
            "image/png": "[encoded data removed]"
          },
          "metadata": {}
        }
      ]
    },
    {
      "cell_type": "markdown",
      "source": [
        "Veamos ahora la gráfica de la convergencia de Monte Carlo"
      ],
      "metadata": {
        "id": "_XUUY1xgHL6l"
      }
    },
    {
      "cell_type": "code",
      "source": [
        "x = np.linspace(0, 1, 400)\n",
        "y = f(x)\n",
        "plt.plot(x, y)\n",
        "plt.axhline(f(1))\n",
        "plt.axvline(1)\n",
        "plt.plot(L)\n",
        "plt.xlabel(\"Número de experimentos\")\n",
        "plt.ylabel(\"Estimación de la integral\")"
      ],
      "metadata": {
        "colab": {
          "base_uri": "https://localhost:8080/",
          "height": 467
        },
        "id": "tCfhGnLjHeEr",
        "outputId": "999378bf-a5a2-490c-889d-2a85446f21c0"
      },
      "execution_count": 36,
      "outputs": [
        {
          "output_type": "execute_result",
          "data": {
            "text/plain": [
              "Text(0, 0.5, 'Estimación de la integral')"
            ]
          },
          "metadata": {},
          "execution_count": 36
        },
        {
          "output_type": "display_data",
          "data": {
            "text/plain": [
              "<Figure size 640x480 with 1 Axes>"
            ],
            "image/png": "[encoded data removed]"
          },
          "metadata": {}
        }
      ]
    }
  ]
}