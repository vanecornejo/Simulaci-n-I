{
  "nbformat": 4,
  "nbformat_minor": 0,
  "metadata": {
    "colab": {
      "provenance": [],
      "authorship_tag": "ABX9TyNYKi/7Kl0om18uNfdmU/be",
      "include_colab_link": true
    },
    "kernelspec": {
      "name": "python3",
      "display_name": "Python 3"
    },
    "language_info": {
      "name": "python"
    }
  },
  "cells": [
    {
      "cell_type": "markdown",
      "metadata": {
        "id": "view-in-github",
        "colab_type": "text"
      },
      "source": [
        "<a href=\"https://colab.research.google.com/github/vanecornejo/Simulaci-n-I/blob/main/ejercicio_peri%C3%B3dicos_24_de_marzo_2025.ipynb\" target=\"_parent\"><img src=\"https://colab.research.google.com/assets/colab-badge.svg\" alt=\"Open In Colab\"/></a>"
      ]
    },
    {
      "cell_type": "code",
      "execution_count": 5,
      "metadata": {
        "id": "qrN_vVTtZrTW"
      },
      "outputs": [],
      "source": [
        "import random\n",
        "import numpy as np"
      ]
    },
    {
      "cell_type": "code",
      "source": [
        "def ventas():\n",
        "  for i in range(5):\n",
        "    x = random.random()\n",
        "    if 0.2 > x:\n",
        "      ventas_cantidad = 30\n",
        "    elif 0.2 <= x and x < 0.45:\n",
        "        ventas_cantidad = 40\n",
        "    elif 0.45 <= x and x < 0.70:\n",
        "        ventas_cantidad = 50\n",
        "    elif 0.70 <= x and x < 0.90:\n",
        "        ventas_cantidad = 60\n",
        "    else:\n",
        "        ventas_cantidad = 70\n",
        "  return ventas_cantidad"
      ],
      "metadata": {
        "id": "JRaTS56P7XU3"
      },
      "execution_count": 6,
      "outputs": []
    },
    {
      "cell_type": "code",
      "source": [
        "def beneficio(demanda, pedidos=50):\n",
        "    precio_venta = 1.10\n",
        "    costo_compra = 0.90\n",
        "    costo_venta_perdida = 0.20\n",
        "    costo_reciclaje = 0.10\n",
        "\n",
        "    if demanda < pedidos:\n",
        "        return (precio_venta * demanda) - (pedidos * costo_compra) - (costo_reciclaje * (pedidos - demanda))\n",
        "    else:\n",
        "        return (precio_venta * pedidos) - (costo_compra * pedidos) - (costo_venta_perdida * (demanda - pedidos))\n"
      ],
      "metadata": {
        "id": "1eQYeHq67bu2"
      },
      "execution_count": 7,
      "outputs": []
    },
    {
      "cell_type": "code",
      "source": [
        "def calcular_beneficio(dias=10000):\n",
        "    beneficios = []\n",
        "    for _ in range(dias):\n",
        "        demanda = ventas()\n",
        "        beneficios.append(beneficio(demanda))\n",
        "\n",
        "    return np.mean(beneficios)\n",
        "\n",
        "beneficio_promedio = calcular_beneficio()\n",
        "print(f\"Beneficio promedio diario: ${beneficio_promedio:.2f}\")\n"
      ],
      "metadata": {
        "colab": {
          "base_uri": "https://localhost:8080/"
        },
        "id": "nW_IdG_Q8GKZ",
        "outputId": "177828d2-e1cc-4fa2-94ee-0caadf569a16"
      },
      "execution_count": 8,
      "outputs": [
        {
          "output_type": "stream",
          "name": "stdout",
          "text": [
            "Beneficio promedio diario: $1.46\n"
          ]
        }
      ]
    }
  ]
}