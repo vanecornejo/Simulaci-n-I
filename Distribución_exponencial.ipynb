{
  "nbformat": 4,
  "nbformat_minor": 0,
  "metadata": {
    "colab": {
      "provenance": [],
      "authorship_tag": "ABX9TyM9SaMDGuLz/v0LRORCk24G",
      "include_colab_link": true
    },
    "kernelspec": {
      "name": "python3",
      "display_name": "Python 3"
    },
    "language_info": {
      "name": "python"
    }
  },
  "cells": [
    {
      "cell_type": "markdown",
      "metadata": {
        "id": "view-in-github",
        "colab_type": "text"
      },
      "source": [
        "<a href=\"https://colab.research.google.com/github/vanecornejo/Simulaci-n-I/blob/main/Distribuci%C3%B3n_exponencial.ipynb\" target=\"_parent\"><img src=\"https://colab.research.google.com/assets/colab-badge.svg\" alt=\"Open In Colab\"/></a>"
      ]
    },
    {
      "cell_type": "markdown",
      "source": [
        "# Distribución Exponencial"
      ],
      "metadata": {
        "id": "uzsPu82H4P5-"
      }
    },
    {
      "cell_type": "code",
      "execution_count": null,
      "metadata": {
        "id": "zaH1KAFLzzlV"
      },
      "outputs": [],
      "source": [
        "import numpy as np\n",
        "import matplotlib.pyplot as plt\n",
        "from random import random"
      ]
    },
    {
      "cell_type": "markdown",
      "source": [],
      "metadata": {
        "id": "tj9UqPCn3Znx"
      }
    },
    {
      "cell_type": "code",
      "source": [
        "def exponencial(landa, n):\n",
        "  x = []\n",
        "  for i in range(n):\n",
        "    R = random()\n",
        "    x.append(-np.log(R)/landa)\n",
        "    return x"
      ],
      "metadata": {
        "id": "xWrji3gU4n_O"
      },
      "execution_count": null,
      "outputs": []
    },
    {
      "cell_type": "code",
      "source": [
        "exp = exponencial(1.5, 1000000)\n",
        "\n",
        "plt.hist(exp, bins=100)"
      ],
      "metadata": {
        "colab": {
          "base_uri": "https://localhost:8080/",
          "height": 1000
        },
        "id": "cn0fTFWA4oPA",
        "outputId": "7ac6c987-cec7-44a8-e1ed-f159f9b60e12"
      },
      "execution_count": null,
      "outputs": [
        {
          "output_type": "execute_result",
          "data": {
            "text/plain": [
              "(array([0., 0., 0., 0., 0., 0., 0., 0., 0., 0., 0., 0., 0., 0., 0., 0., 0.,\n",
              "        0., 0., 0., 0., 0., 0., 0., 0., 0., 0., 0., 0., 0., 0., 0., 0., 0.,\n",
              "        0., 0., 0., 0., 0., 0., 0., 0., 0., 0., 0., 0., 0., 0., 0., 0., 1.,\n",
              "        0., 0., 0., 0., 0., 0., 0., 0., 0., 0., 0., 0., 0., 0., 0., 0., 0.,\n",
              "        0., 0., 0., 0., 0., 0., 0., 0., 0., 0., 0., 0., 0., 0., 0., 0., 0.,\n",
              "        0., 0., 0., 0., 0., 0., 0., 0., 0., 0., 0., 0., 0., 0., 0.]),\n",
              " array([-3.20313053e-01, -3.10313053e-01, -3.00313053e-01, -2.90313053e-01,\n",
              "        -2.80313053e-01, -2.70313053e-01, -2.60313053e-01, -2.50313053e-01,\n",
              "        -2.40313053e-01, -2.30313053e-01, -2.20313053e-01, -2.10313053e-01,\n",
              "        -2.00313053e-01, -1.90313053e-01, -1.80313053e-01, -1.70313053e-01,\n",
              "        -1.60313053e-01, -1.50313053e-01, -1.40313053e-01, -1.30313053e-01,\n",
              "        -1.20313053e-01, -1.10313053e-01, -1.00313053e-01, -9.03130526e-02,\n",
              "        -8.03130526e-02, -7.03130526e-02, -6.03130526e-02, -5.03130526e-02,\n",
              "        -4.03130526e-02, -3.03130526e-02, -2.03130526e-02, -1.03130526e-02,\n",
              "        -3.13052635e-04,  9.68694737e-03,  1.96869474e-02,  2.96869474e-02,\n",
              "         3.96869474e-02,  4.96869474e-02,  5.96869474e-02,  6.96869474e-02,\n",
              "         7.96869474e-02,  8.96869474e-02,  9.96869474e-02,  1.09686947e-01,\n",
              "         1.19686947e-01,  1.29686947e-01,  1.39686947e-01,  1.49686947e-01,\n",
              "         1.59686947e-01,  1.69686947e-01,  1.79686947e-01,  1.89686947e-01,\n",
              "         1.99686947e-01,  2.09686947e-01,  2.19686947e-01,  2.29686947e-01,\n",
              "         2.39686947e-01,  2.49686947e-01,  2.59686947e-01,  2.69686947e-01,\n",
              "         2.79686947e-01,  2.89686947e-01,  2.99686947e-01,  3.09686947e-01,\n",
              "         3.19686947e-01,  3.29686947e-01,  3.39686947e-01,  3.49686947e-01,\n",
              "         3.59686947e-01,  3.69686947e-01,  3.79686947e-01,  3.89686947e-01,\n",
              "         3.99686947e-01,  4.09686947e-01,  4.19686947e-01,  4.29686947e-01,\n",
              "         4.39686947e-01,  4.49686947e-01,  4.59686947e-01,  4.69686947e-01,\n",
              "         4.79686947e-01,  4.89686947e-01,  4.99686947e-01,  5.09686947e-01,\n",
              "         5.19686947e-01,  5.29686947e-01,  5.39686947e-01,  5.49686947e-01,\n",
              "         5.59686947e-01,  5.69686947e-01,  5.79686947e-01,  5.89686947e-01,\n",
              "         5.99686947e-01,  6.09686947e-01,  6.19686947e-01,  6.29686947e-01,\n",
              "         6.39686947e-01,  6.49686947e-01,  6.59686947e-01,  6.69686947e-01,\n",
              "         6.79686947e-01]),\n",
              " <BarContainer object of 100 artists>)"
            ]
          },
          "metadata": {},
          "execution_count": 6
        },
        {
          "output_type": "display_data",
          "data": {
            "text/plain": [
              "<Figure size 640x480 with 1 Axes>"
            ],
            "image/png": "[encoded data removed]"
          },
          "metadata": {}
        }
      ]
    },
    {
      "cell_type": "code",
      "source": [
        "print(\"La media es:\", np.mean(exp))\n",
        "print(\"La varianza es:\", np.var(exp))"
      ],
      "metadata": {
        "colab": {
          "base_uri": "https://localhost:8080/"
        },
        "id": "B-dEUrKZ5V8W",
        "outputId": "152e42db-f7de-4580-ae7a-d5e6ca894f6b"
      },
      "execution_count": null,
      "outputs": [
        {
          "output_type": "stream",
          "name": "stdout",
          "text": [
            "La media es: 0.17968694736500904\n",
            "La varianza es: 0.0\n"
          ]
        }
      ]
    }
  ]
}